{
 "cells": [
  {
   "cell_type": "code",
   "execution_count": 3,
   "metadata": {},
   "outputs": [
    {
     "data": {
      "text/html": [
       "\n",
       "            <style>\n",
       "                .geemap-dark {\n",
       "                    --jp-widgets-color: white;\n",
       "                    --jp-widgets-label-color: white;\n",
       "                    --jp-ui-font-color1: white;\n",
       "                    --jp-layout-color2: #454545;\n",
       "                    background-color: #383838;\n",
       "                }\n",
       "                    \n",
       "                .geemap-dark .jupyter-button {\n",
       "                    --jp-layout-color3: #383838;\n",
       "                }\n",
       "                \n",
       "                .geemap-colab {\n",
       "                    background-color: var(--colab-primary-surface-color, white);\n",
       "                }\n",
       "                    \n",
       "                .geemap-colab .jupyter-button {\n",
       "                    --jp-layout-color3: var(--colab-primary-surface-color, white);\n",
       "                }\n",
       "            </style>\n",
       "            "
      ],
      "text/plain": [
       "<IPython.core.display.HTML object>"
      ]
     },
     "metadata": {},
     "output_type": "display_data"
    },
    {
     "name": "stdout",
     "output_type": "stream",
     "text": [
      "calculated results, exporting results for DFO 4444...\n"
     ]
    },
    {
     "data": {
      "application/vnd.jupyter.widget-view+json": {
       "model_id": "38a441e3f435411cb19803cdbf128eb6",
       "version_major": 2,
       "version_minor": 0
      },
      "text/plain": [
       "pop_4444.tif: |          | 0.00/241M (raw) [  0.0%] in 00:00 (eta:     ?)"
      ]
     },
     "metadata": {},
     "output_type": "display_data"
    },
    {
     "data": {
      "application/vnd.jupyter.widget-view+json": {
       "model_id": "67b2899286ec40b784d93936463db850",
       "version_major": 2,
       "version_minor": 0
      },
      "text/plain": [
       "pop_masked_4444.tif: |          | 0.00/241M (raw) [  0.0%] in 00:00 (eta:     ?)"
      ]
     },
     "metadata": {},
     "output_type": "display_data"
    }
   ],
   "source": [
    "# Chongyang Du\n",
    "# Jan 2, 2024\n",
    "\n",
    "# use this template to run the flood stats functions (area, population, etc.)\n",
    "# on an image collection and export results as a csv\n",
    "\n",
    "import ee\n",
    "import geemap\n",
    "\n",
    "\n",
    "ee.Initialize()\n",
    "\n",
    "# from flood_stats import pop_utils\n",
    "import time, csv\n",
    "\n",
    "def get_flood_pop_pixel(flood_img):\n",
    "    \"\"\"\n",
    "    Args:\n",
    "        floodImage : the standard Earth Engine Image object outputted by the map_DFO_event function\n",
    "        roiGEO : the region of interest as an Earth Engine Geometry object\n",
    "\n",
    "    Returns:\n",
    "    -an image of people in the mapped flood from WorldPop data\n",
    "\n",
    "    \"\"\"\n",
    "    import ee\n",
    "    import geemap\n",
    "    ee.Initialize()\n",
    "    # ee.Authenticate()\n",
    "    roi_geo = flood_img.geometry()\n",
    "\n",
    "    # Import the LandScan image collection & permannt water mask\n",
    "    perm_water = ee.Image(\"JRC/GSW1_0/GlobalSurfaceWater\").select(\"transition\").eq(1).unmask()\n",
    "\n",
    "    def maskImages(img):\n",
    "        non_flood = img.select(\"flooded\")\n",
    "        water_mask = non_flood.multiply(perm_water.neq(1))\n",
    "        return img.select(\"flooded\").mask(water_mask)\n",
    "\n",
    "    # Extract the final flood extent image data as its own variable for analysis\n",
    "    flood_extent = maskImages(ee.Image(flood_img.select(\"flooded\")))\n",
    "\n",
    "    # # get pop from projects/global-flood-db/landscan\n",
    "    # # Get event year, match with the population year and clip to study are\n",
    "    # pop_all = ee.ImageCollection(\"projects/global-flood-db/landscan\")\n",
    "    # event_year = ee.Date(flood_img.get('began')).get('year')\n",
    "    # pop_img = ee.Image(pop_all.filterMetadata('year', 'equals', event_year)\\\n",
    "    #                 .first()).clip(roi_geo)\n",
    "    # pop_img = pop_img.updateMask(pop_img.gte(0)) # mask out bad data with negative values\n",
    "\n",
    "    # get pop from JRC/GHSL/P2016/POP_GPW_GLOBE_V1\n",
    "    pop_all = ee.ImageCollection(\"JRC/GHSL/P2016/POP_GPW_GLOBE_V1\")\n",
    "    # Get event year to match with the population year\n",
    "    # pop_img = ee.Image(pop_all.filterMetadata('system:index', 'equals', '2000')\\\n",
    "    #                 .first()).clip(roi_geo)\n",
    "    pop_img = ee.Image(pop_all.filterMetadata('system:index', 'equals', '2015')\\\n",
    "                    .first()).clip(roi_geo)\n",
    "\n",
    "\n",
    "    # Mask the world population dataset using the flood extent layer\n",
    "    pop_masked = pop_img.updateMask(flood_extent)\n",
    "\n",
    "    return pop_img, pop_masked\n",
    "\n",
    "\n",
    "# Image Collection of flood maps, each needs layer called \"flooded\" that\n",
    "# is 1 = flooded, 0 = not flooded\n",
    "gfd = ee.ImageCollection('projects/global-flood-db/gfd_v3').filterMetadata('id','greater_than',4335)\n",
    "\n",
    "# Create Error Log file\n",
    "log_file = \"../error_logs/event_stats/pop_error_log_{0}.csv\".format(time.strftime(\"%d_%m_%Y\"))\n",
    "with open(log_file,\"w\", newline='') as out_file:\n",
    "    wr = csv.writer(out_file)\n",
    "    wr.writerow([\"error_type\", \"dfo_id\", \"error_message\"])\n",
    "\n",
    "# Create list of events from input fusion table\n",
    "event_ids = ee.List(gfd.aggregate_array('id')).sort()\n",
    "id_list = event_ids.getInfo()\n",
    "id_list = [int(i) for i in id_list]\n",
    "\n",
    "# for event_id in id_list:\n",
    "# event_id = id_list[0]\n",
    "event_id = 4444\n",
    "# Get event date range, they can be passed as Strings\n",
    "flood_event = ee.Image(gfd.filterMetadata('id', 'equals', event_id).first())\n",
    "\n",
    "# try:\n",
    "# Calculate flood stats\n",
    "# flood_stats = pop_utils.getFloodPopbyCountry_GHSLTimeSeries(flood_event)\n",
    "pop_img, pop_masked = get_flood_pop_pixel(flood_event)\n",
    "# index = flood_stats.get(\"id\").getInfo()\n",
    "print(\"calculated results, exporting results for DFO {0}...\".format(event_id))\n",
    "\n",
    "# 定义感兴趣的区域\n",
    "region = pop_img.geometry()\n",
    "\n",
    "# 设置下载参数\n",
    "output_dir = '/download/'\n",
    "scale = pop_img.projection().nominalScale()  # 设置所需的空间分辨率\n",
    "file_format = 'GeoTIFF'  # 设置所需的文件格式\n",
    "\n",
    "# 下载图像集合\n",
    "geemap.download_ee_image(pop_img, scale=scale, region=region, filename=\"pop_4444.tif\", crs=\"EPSG:4326\")\n",
    "output_dir = '/download/'\n",
    "geemap.download_ee_image(pop_masked, scale=scale, region=region, filename=\"pop_masked_4444.tif\", crs=\"EPSG:4326\")\n",
    "\n"
   ]
  },
  {
   "cell_type": "code",
   "execution_count": 10,
   "metadata": {},
   "outputs": [
    {
     "data": {
      "text/html": [
       "\n",
       "            <style>\n",
       "                .geemap-dark {\n",
       "                    --jp-widgets-color: white;\n",
       "                    --jp-widgets-label-color: white;\n",
       "                    --jp-ui-font-color1: white;\n",
       "                    --jp-layout-color2: #454545;\n",
       "                    background-color: #383838;\n",
       "                }\n",
       "                    \n",
       "                .geemap-dark .jupyter-button {\n",
       "                    --jp-layout-color3: #383838;\n",
       "                }\n",
       "                \n",
       "                .geemap-colab {\n",
       "                    background-color: var(--colab-primary-surface-color, white);\n",
       "                }\n",
       "                    \n",
       "                .geemap-colab .jupyter-button {\n",
       "                    --jp-layout-color3: var(--colab-primary-surface-color, white);\n",
       "                }\n",
       "            </style>\n",
       "            "
      ],
      "text/plain": [
       "<IPython.core.display.HTML object>"
      ]
     },
     "metadata": {},
     "output_type": "display_data"
    },
    {
     "data": {
      "application/vnd.jupyter.widget-view+json": {
       "model_id": "c26e383706fc4fc18420cdba615f3bfe",
       "version_major": 2,
       "version_minor": 0
      },
      "text/plain": [
       "Map(center=[30.895800913245573, -96.55780818461372], controls=(WidgetControl(options=['position', 'transparent…"
      ]
     },
     "execution_count": 10,
     "metadata": {},
     "output_type": "execute_result"
    }
   ],
   "source": [
    "\n",
    "# Visualize pop_img with colorbar\n",
    "Map = geemap.Map()\n",
    "Map.addLayer(pop_img, {}, 'Population Image')\n",
    "Map.add_colorbar()\n",
    "# Calculate the maximum and minimum values of pop_img\n",
    "\n",
    "Map.centerObject(flood_event.geometry(), 10)\n",
    "Map\n"
   ]
  },
  {
   "cell_type": "code",
   "execution_count": 15,
   "metadata": {},
   "outputs": [
    {
     "data": {
      "text/html": [
       "\n",
       "            <style>\n",
       "                .geemap-dark {\n",
       "                    --jp-widgets-color: white;\n",
       "                    --jp-widgets-label-color: white;\n",
       "                    --jp-ui-font-color1: white;\n",
       "                    --jp-layout-color2: #454545;\n",
       "                    background-color: #383838;\n",
       "                }\n",
       "                    \n",
       "                .geemap-dark .jupyter-button {\n",
       "                    --jp-layout-color3: #383838;\n",
       "                }\n",
       "                \n",
       "                .geemap-colab {\n",
       "                    background-color: var(--colab-primary-surface-color, white);\n",
       "                }\n",
       "                    \n",
       "                .geemap-colab .jupyter-button {\n",
       "                    --jp-layout-color3: var(--colab-primary-surface-color, white);\n",
       "                }\n",
       "            </style>\n",
       "            "
      ],
      "text/plain": [
       "<IPython.core.display.HTML object>"
      ]
     },
     "metadata": {},
     "output_type": "display_data"
    },
    {
     "data": {
      "application/vnd.jupyter.widget-view+json": {
       "model_id": "4ade96adc97a4eec93b0786072027b2f",
       "version_major": 2,
       "version_minor": 0
      },
      "text/plain": [
       "Map(center=[30.895800913245573, -96.55780818461372], controls=(WidgetControl(options=['position', 'transparent…"
      ]
     },
     "execution_count": 15,
     "metadata": {},
     "output_type": "execute_result"
    }
   ],
   "source": [
    "\n",
    "# Visualize pop_masked\n",
    "Map = geemap.Map()\n",
    "Map.addLayer(pop_masked, {}, 'Masked Population')\n",
    "Map.add_colorbar()\n",
    "\n",
    "Map.centerObject(flood_event.geometry(), 10)\n",
    "Map\n",
    "\n",
    "# print('Done!')"
   ]
  }
 ],
 "metadata": {
  "kernelspec": {
   "display_name": "earthe",
   "language": "python",
   "name": "python3"
  },
  "language_info": {
   "codemirror_mode": {
    "name": "ipython",
    "version": 3
   },
   "file_extension": ".py",
   "mimetype": "text/x-python",
   "name": "python",
   "nbconvert_exporter": "python",
   "pygments_lexer": "ipython3",
   "version": "3.8.15"
  }
 },
 "nbformat": 4,
 "nbformat_minor": 2
}
