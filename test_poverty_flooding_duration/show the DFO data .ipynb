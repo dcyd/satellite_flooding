{
 "cells": [
  {
   "cell_type": "markdown",
   "id": "4d8b1e6a",
   "metadata": {},
   "source": [
    "# show the DFO data "
   ]
  },
  {
   "cell_type": "code",
   "execution_count": 2,
   "id": "768f6333",
   "metadata": {},
   "outputs": [],
   "source": [
    "import ee\n",
    "import folium\n",
    "import geopandas as gpd\n",
    "import matplotlib.pyplot as plt\n",
    "import geemap\n",
    "\n",
    "ee.Authenticate()\n",
    "ee.Initialize()"
   ]
  },
  {
   "cell_type": "code",
   "execution_count": 56,
   "id": "fb37217c",
   "metadata": {},
   "outputs": [
    {
     "data": {
      "text/html": [
       "\n",
       "            <style>\n",
       "                .geemap-dark {\n",
       "                    --jp-widgets-color: white;\n",
       "                    --jp-widgets-label-color: white;\n",
       "                    --jp-ui-font-color1: white;\n",
       "                    --jp-layout-color2: #454545;\n",
       "                    background-color: #383838;\n",
       "                }\n",
       "                    \n",
       "                .geemap-dark .jupyter-button {\n",
       "                    --jp-layout-color3: #383838;\n",
       "                }\n",
       "                \n",
       "                .geemap-colab {\n",
       "                    background-color: var(--colab-primary-surface-color, white);\n",
       "                }\n",
       "                    \n",
       "                .geemap-colab .jupyter-button {\n",
       "                    --jp-layout-color3: var(--colab-primary-surface-color, white);\n",
       "                }\n",
       "            </style>\n",
       "            "
      ],
      "text/plain": [
       "<IPython.core.display.HTML object>"
      ]
     },
     "metadata": {},
     "output_type": "display_data"
    }
   ],
   "source": [
    "#定义导出函数\n",
    "def doExport(image,img_ID,folder,scale, block=True):\n",
    "    \"\"\"Runs the image export task. Block until complete.\"\"\"\n",
    "    task = ee.batch.Export.image.toDrive(\n",
    "        **{\n",
    "            'image':image,\n",
    "            'folder':folder,\n",
    "            'scale':scale,\n",
    "            'description':'Image',\n",
    "            'fileNamePrefix':str(img_ID),\n",
    "            'crs':'EPSG:3857'\n",
    "            }\n",
    "        )\n",
    "    task.start()\n",
    "    if(block):\n",
    "        print('Exporting image to Drive...')\n",
    "        import time\n",
    "        while task.active():\n",
    "            time.sleep(5)\n",
    "        if task.status()['state'] != 'COMPLETED':\n",
    "            print('Error with image export')\n",
    "        else:\n",
    "            print('Image export completed')\n",
    "    else:\n",
    "        return task"
   ]
  },
  {
   "cell_type": "code",
   "execution_count": 107,
   "id": "d344d6ad",
   "metadata": {},
   "outputs": [
    {
     "data": {
      "text/html": [
       "\n",
       "            <style>\n",
       "                .geemap-dark {\n",
       "                    --jp-widgets-color: white;\n",
       "                    --jp-widgets-label-color: white;\n",
       "                    --jp-ui-font-color1: white;\n",
       "                    --jp-layout-color2: #454545;\n",
       "                    background-color: #383838;\n",
       "                }\n",
       "                    \n",
       "                .geemap-dark .jupyter-button {\n",
       "                    --jp-layout-color3: #383838;\n",
       "                }\n",
       "                \n",
       "                .geemap-colab {\n",
       "                    background-color: var(--colab-primary-surface-color, white);\n",
       "                }\n",
       "                    \n",
       "                .geemap-colab .jupyter-button {\n",
       "                    --jp-layout-color3: var(--colab-primary-surface-color, white);\n",
       "                }\n",
       "            </style>\n",
       "            "
      ],
      "text/plain": [
       "<IPython.core.display.HTML object>"
      ]
     },
     "metadata": {},
     "output_type": "display_data"
    }
   ],
   "source": [
    "import csv\n",
    "ID = []\n",
    "f = open(r'E:\\code\\Py_workplace\\satellite_flooding\\Data\\FloodArchive.csv',encoding='utf-8')\n",
    "f_read =csv.reader(f)\n",
    "f_head = f_read.__next__()\n",
    "for i in f_read:\n",
    "    ID.append(i[0])\n",
    "ID = [int(i) for i in ID]"
   ]
  },
  {
   "cell_type": "code",
   "execution_count": 105,
   "id": "cfed1b74",
   "metadata": {
    "collapsed": true
   },
   "outputs": [
    {
     "data": {
      "text/html": [
       "\n",
       "            <style>\n",
       "                .geemap-dark {\n",
       "                    --jp-widgets-color: white;\n",
       "                    --jp-widgets-label-color: white;\n",
       "                    --jp-ui-font-color1: white;\n",
       "                    --jp-layout-color2: #454545;\n",
       "                    background-color: #383838;\n",
       "                }\n",
       "                    \n",
       "                .geemap-dark .jupyter-button {\n",
       "                    --jp-layout-color3: #383838;\n",
       "                }\n",
       "                \n",
       "                .geemap-colab {\n",
       "                    background-color: var(--colab-primary-surface-color, white);\n",
       "                }\n",
       "                    \n",
       "                .geemap-colab .jupyter-button {\n",
       "                    --jp-layout-color3: var(--colab-primary-surface-color, white);\n",
       "                }\n",
       "            </style>\n",
       "            "
      ],
      "text/plain": [
       "<IPython.core.display.HTML object>"
      ]
     },
     "metadata": {},
     "output_type": "display_data"
    },
    {
     "name": "stdout",
     "output_type": "stream",
     "text": [
      "Exporting image to Drive...\n",
      "Error with image export\n",
      "Exporting image to Drive...\n",
      "Error with image export\n",
      "Exporting image to Drive...\n",
      "Error with image export\n",
      "Exporting image to Drive...\n",
      "Error with image export\n",
      "Exporting image to Drive...\n",
      "Error with image export\n",
      "Exporting image to Drive...\n",
      "Image export completed\n",
      "Exporting image to Drive...\n",
      "Error with image export\n",
      "Exporting image to Drive...\n",
      "Error with image export\n",
      "Exporting image to Drive...\n",
      "Error with image export\n",
      "Exporting image to Drive...\n",
      "Error with image export\n",
      "Exporting image to Drive...\n",
      "Image export completed\n",
      "Exporting image to Drive...\n",
      "Error with image export\n",
      "Exporting image to Drive...\n",
      "Error with image export\n",
      "Exporting image to Drive...\n",
      "Error with image export\n",
      "Exporting image to Drive...\n",
      "Error with image export\n",
      "Exporting image to Drive...\n",
      "Error with image export\n",
      "Exporting image to Drive...\n",
      "Error with image export\n",
      "Exporting image to Drive...\n",
      "Error with image export\n",
      "Exporting image to Drive...\n",
      "Error with image export\n",
      "Exporting image to Drive...\n",
      "Error with image export\n",
      "Exporting image to Drive...\n",
      "Error with image export\n",
      "Exporting image to Drive...\n",
      "Error with image export\n",
      "Exporting image to Drive...\n",
      "Error with image export\n",
      "Exporting image to Drive...\n",
      "Error with image export\n",
      "Exporting image to Drive...\n",
      "Image export completed\n",
      "Exporting image to Drive...\n",
      "Error with image export\n",
      "Exporting image to Drive...\n",
      "Error with image export\n",
      "Exporting image to Drive...\n",
      "Error with image export\n",
      "Exporting image to Drive...\n",
      "Error with image export\n",
      "Exporting image to Drive...\n",
      "Error with image export\n",
      "Exporting image to Drive...\n",
      "Error with image export\n",
      "Exporting image to Drive...\n",
      "Error with image export\n",
      "Exporting image to Drive...\n",
      "Error with image export\n",
      "Exporting image to Drive...\n",
      "Error with image export\n",
      "Exporting image to Drive...\n",
      "Error with image export\n",
      "Exporting image to Drive...\n",
      "Error with image export\n",
      "Exporting image to Drive...\n",
      "Error with image export\n"
     ]
    }
   ],
   "source": [
    "#导出所有能导出的的duration\n",
    "data = ee.ImageCollection('GLOBAL_FLOOD_DB/MODIS_EVENTS/V1')\n",
    "for  id in ID:\n",
    "    duration_image = data.filterMetadata('id', 'equals', id)\\\n",
    "                               .first()\\\n",
    "                               .select('duration')\\\n",
    "                                .selfMask()\n",
    "    doExport(duration_image,id ,'China_id_duration',500, block=True)\n",
    "    \n",
    "#m = geemap.Map(center=[106.115, 37.3916], zoom=4)\n",
    "#m.setCenter(106.115, 37.3916, 2)\n",
    "#m.setOptions('SATELLITE')"
   ]
  },
  {
   "cell_type": "code",
   "execution_count": null,
   "id": "ba7f9c7a",
   "metadata": {},
   "outputs": [],
   "source": [
    "duration_falseColorVis = {\n",
    "  'min': 0, \n",
    "  'max': 4,\n",
    "  'palette': ['c3effe', '1341e8', '051cb0', '001133'],\n",
    "};\n",
    "m.addLayer(duration_image,duration_falseColorVis,'3975-duration')"
   ]
  },
  {
   "cell_type": "code",
   "execution_count": 31,
   "id": "4e6cab2c",
   "metadata": {
    "collapsed": true
   },
   "outputs": [
    {
     "data": {
      "text/html": [
       "\n",
       "            <style>\n",
       "                .geemap-dark {\n",
       "                    --jp-widgets-color: white;\n",
       "                    --jp-widgets-label-color: white;\n",
       "                    --jp-ui-font-color1: white;\n",
       "                    --jp-layout-color2: #454545;\n",
       "                    background-color: #383838;\n",
       "                }\n",
       "                    \n",
       "                .geemap-dark .jupyter-button {\n",
       "                    --jp-layout-color3: #383838;\n",
       "                }\n",
       "                \n",
       "                .geemap-colab {\n",
       "                    background-color: var(--colab-primary-surface-color, white);\n",
       "                }\n",
       "                    \n",
       "                .geemap-colab .jupyter-button {\n",
       "                    --jp-layout-color3: var(--colab-primary-surface-color, white);\n",
       "                }\n",
       "            </style>\n",
       "            "
      ],
      "text/plain": [
       "<IPython.core.display.HTML object>"
      ]
     },
     "metadata": {},
     "output_type": "display_data"
    },
    {
     "data": {
      "application/vnd.jupyter.widget-view+json": {
       "model_id": "b06b05632d294860871211a3c84f86ab",
       "version_major": 2,
       "version_minor": 0
      },
      "text/plain": [
       "Map(center=[37.3916, 106.115], controls=(WidgetControl(options=['position', 'transparent_bg'], widget=SearchDa…"
      ]
     },
     "execution_count": 31,
     "metadata": {},
     "output_type": "execute_result"
    },
    {
     "ename": "TraitError",
     "evalue": "The 'east' trait of a Map instance expected a float, not the NoneType None.",
     "output_type": "error",
     "traceback": [
      "\u001b[1;31m---------------------------------------------------------------------------\u001b[0m",
      "\u001b[1;31mTraitError\u001b[0m                                Traceback (most recent call last)",
      "File \u001b[1;32mD:\\Anacoda3-2023.09\\install\\Lib\\site-packages\\ipywidgets\\widgets\\widget.py:766\u001b[0m, in \u001b[0;36mWidget._handle_msg\u001b[1;34m(self, msg)\u001b[0m\n\u001b[0;32m    764\u001b[0m         \u001b[38;5;28;01mif\u001b[39;00m \u001b[38;5;124m'\u001b[39m\u001b[38;5;124mbuffer_paths\u001b[39m\u001b[38;5;124m'\u001b[39m \u001b[38;5;129;01min\u001b[39;00m data:\n\u001b[0;32m    765\u001b[0m             _put_buffers(state, data[\u001b[38;5;124m'\u001b[39m\u001b[38;5;124mbuffer_paths\u001b[39m\u001b[38;5;124m'\u001b[39m], msg[\u001b[38;5;124m'\u001b[39m\u001b[38;5;124mbuffers\u001b[39m\u001b[38;5;124m'\u001b[39m])\n\u001b[1;32m--> 766\u001b[0m         \u001b[38;5;28mself\u001b[39m\u001b[38;5;241m.\u001b[39mset_state(state)\n\u001b[0;32m    768\u001b[0m \u001b[38;5;66;03m# Handle a state request.\u001b[39;00m\n\u001b[0;32m    769\u001b[0m \u001b[38;5;28;01melif\u001b[39;00m method \u001b[38;5;241m==\u001b[39m \u001b[38;5;124m'\u001b[39m\u001b[38;5;124mrequest_state\u001b[39m\u001b[38;5;124m'\u001b[39m:\n",
      "File \u001b[1;32mD:\\Anacoda3-2023.09\\install\\Lib\\site-packages\\ipywidgets\\widgets\\widget.py:648\u001b[0m, in \u001b[0;36mWidget.set_state\u001b[1;34m(self, sync_data)\u001b[0m\n\u001b[0;32m    645\u001b[0m \u001b[38;5;28;01mif\u001b[39;00m name \u001b[38;5;129;01min\u001b[39;00m \u001b[38;5;28mself\u001b[39m\u001b[38;5;241m.\u001b[39mkeys:\n\u001b[0;32m    646\u001b[0m     from_json \u001b[38;5;241m=\u001b[39m \u001b[38;5;28mself\u001b[39m\u001b[38;5;241m.\u001b[39mtrait_metadata(name, \u001b[38;5;124m'\u001b[39m\u001b[38;5;124mfrom_json\u001b[39m\u001b[38;5;124m'\u001b[39m,\n\u001b[0;32m    647\u001b[0m                                     \u001b[38;5;28mself\u001b[39m\u001b[38;5;241m.\u001b[39m_trait_from_json)\n\u001b[1;32m--> 648\u001b[0m     \u001b[38;5;28mself\u001b[39m\u001b[38;5;241m.\u001b[39mset_trait(name, from_json(sync_data[name], \u001b[38;5;28mself\u001b[39m))\n",
      "File \u001b[1;32mD:\\Anacoda3-2023.09\\install\\Lib\\site-packages\\traitlets\\traitlets.py:1738\u001b[0m, in \u001b[0;36mHasTraits.set_trait\u001b[1;34m(self, name, value)\u001b[0m\n\u001b[0;32m   1736\u001b[0m     \u001b[38;5;28;01mraise\u001b[39;00m TraitError(\u001b[38;5;124mf\u001b[39m\u001b[38;5;124m\"\u001b[39m\u001b[38;5;124mClass \u001b[39m\u001b[38;5;132;01m{\u001b[39;00m\u001b[38;5;28mcls\u001b[39m\u001b[38;5;241m.\u001b[39m\u001b[38;5;18m__name__\u001b[39m\u001b[38;5;132;01m}\u001b[39;00m\u001b[38;5;124m does not have a trait named \u001b[39m\u001b[38;5;132;01m{\u001b[39;00mname\u001b[38;5;132;01m}\u001b[39;00m\u001b[38;5;124m\"\u001b[39m)\n\u001b[0;32m   1737\u001b[0m \u001b[38;5;28;01melse\u001b[39;00m:\n\u001b[1;32m-> 1738\u001b[0m     \u001b[38;5;28mgetattr\u001b[39m(\u001b[38;5;28mcls\u001b[39m, name)\u001b[38;5;241m.\u001b[39mset(\u001b[38;5;28mself\u001b[39m, value)\n",
      "File \u001b[1;32mD:\\Anacoda3-2023.09\\install\\Lib\\site-packages\\traitlets\\traitlets.py:703\u001b[0m, in \u001b[0;36mTraitType.set\u001b[1;34m(self, obj, value)\u001b[0m\n\u001b[0;32m    702\u001b[0m \u001b[38;5;28;01mdef\u001b[39;00m \u001b[38;5;21mset\u001b[39m(\u001b[38;5;28mself\u001b[39m, obj, value):\n\u001b[1;32m--> 703\u001b[0m     new_value \u001b[38;5;241m=\u001b[39m \u001b[38;5;28mself\u001b[39m\u001b[38;5;241m.\u001b[39m_validate(obj, value)\n\u001b[0;32m    704\u001b[0m     \u001b[38;5;28;01mtry\u001b[39;00m:\n\u001b[0;32m    705\u001b[0m         old_value \u001b[38;5;241m=\u001b[39m obj\u001b[38;5;241m.\u001b[39m_trait_values[\u001b[38;5;28mself\u001b[39m\u001b[38;5;241m.\u001b[39mname]\n",
      "File \u001b[1;32mD:\\Anacoda3-2023.09\\install\\Lib\\site-packages\\traitlets\\traitlets.py:735\u001b[0m, in \u001b[0;36mTraitType._validate\u001b[1;34m(self, obj, value)\u001b[0m\n\u001b[0;32m    733\u001b[0m     \u001b[38;5;28;01mreturn\u001b[39;00m value\n\u001b[0;32m    734\u001b[0m \u001b[38;5;28;01mif\u001b[39;00m \u001b[38;5;28mhasattr\u001b[39m(\u001b[38;5;28mself\u001b[39m, \u001b[38;5;124m\"\u001b[39m\u001b[38;5;124mvalidate\u001b[39m\u001b[38;5;124m\"\u001b[39m):\n\u001b[1;32m--> 735\u001b[0m     value \u001b[38;5;241m=\u001b[39m \u001b[38;5;28mself\u001b[39m\u001b[38;5;241m.\u001b[39mvalidate(obj, value)\n\u001b[0;32m    736\u001b[0m \u001b[38;5;28;01mif\u001b[39;00m obj\u001b[38;5;241m.\u001b[39m_cross_validation_lock \u001b[38;5;129;01mis\u001b[39;00m \u001b[38;5;28;01mFalse\u001b[39;00m:\n\u001b[0;32m    737\u001b[0m     value \u001b[38;5;241m=\u001b[39m \u001b[38;5;28mself\u001b[39m\u001b[38;5;241m.\u001b[39m_cross_validate(obj, value)\n",
      "File \u001b[1;32mD:\\Anacoda3-2023.09\\install\\Lib\\site-packages\\traitlets\\traitlets.py:2417\u001b[0m, in \u001b[0;36mFloat.validate\u001b[1;34m(self, obj, value)\u001b[0m\n\u001b[0;32m   2415\u001b[0m     value \u001b[38;5;241m=\u001b[39m \u001b[38;5;28mfloat\u001b[39m(value)\n\u001b[0;32m   2416\u001b[0m \u001b[38;5;28;01mif\u001b[39;00m \u001b[38;5;129;01mnot\u001b[39;00m \u001b[38;5;28misinstance\u001b[39m(value, \u001b[38;5;28mfloat\u001b[39m):\n\u001b[1;32m-> 2417\u001b[0m     \u001b[38;5;28mself\u001b[39m\u001b[38;5;241m.\u001b[39merror(obj, value)\n\u001b[0;32m   2418\u001b[0m \u001b[38;5;28;01mreturn\u001b[39;00m _validate_bounds(\u001b[38;5;28mself\u001b[39m, obj, value)\n",
      "File \u001b[1;32mD:\\Anacoda3-2023.09\\install\\Lib\\site-packages\\traitlets\\traitlets.py:841\u001b[0m, in \u001b[0;36mTraitType.error\u001b[1;34m(self, obj, value, error, info)\u001b[0m\n\u001b[0;32m    835\u001b[0m \u001b[38;5;28;01melse\u001b[39;00m:\n\u001b[0;32m    836\u001b[0m     e \u001b[38;5;241m=\u001b[39m \u001b[38;5;124m\"\u001b[39m\u001b[38;5;124mThe \u001b[39m\u001b[38;5;124m'\u001b[39m\u001b[38;5;132;01m{}\u001b[39;00m\u001b[38;5;124m'\u001b[39m\u001b[38;5;124m trait expected \u001b[39m\u001b[38;5;132;01m{}\u001b[39;00m\u001b[38;5;124m, not \u001b[39m\u001b[38;5;132;01m{}\u001b[39;00m\u001b[38;5;124m.\u001b[39m\u001b[38;5;124m\"\u001b[39m\u001b[38;5;241m.\u001b[39mformat(\n\u001b[0;32m    837\u001b[0m         \u001b[38;5;28mself\u001b[39m\u001b[38;5;241m.\u001b[39mname,\n\u001b[0;32m    838\u001b[0m         \u001b[38;5;28mself\u001b[39m\u001b[38;5;241m.\u001b[39minfo(),\n\u001b[0;32m    839\u001b[0m         describe(\u001b[38;5;124m\"\u001b[39m\u001b[38;5;124mthe\u001b[39m\u001b[38;5;124m\"\u001b[39m, value),\n\u001b[0;32m    840\u001b[0m     )\n\u001b[1;32m--> 841\u001b[0m \u001b[38;5;28;01mraise\u001b[39;00m TraitError(e)\n",
      "\u001b[1;31mTraitError\u001b[0m: The 'east' trait of a Map instance expected a float, not the NoneType None."
     ]
    }
   ],
   "source": [
    "#导出ID为3975的extent\n",
    "data_3975 = ee.ImageCollection('GLOBAL_FLOOD_DB/MODIS_EVENTS/V1')\n",
    "id = 3975\n",
    "extent_image_3975 = ee.Image(data_3975.filterMetadata('id', 'equals', id).first())\\\n",
    "                        .select('flooded')\\\n",
    "                        .selfMask()\n",
    "\n",
    "m = geemap.Map(center=[40,0], zoom=4)\n",
    "m.setCenter(106.115, 37.3916, 2)\n",
    "m.setOptions('SATELLITE');\n",
    "\n",
    "extent_falseColorVis = {\n",
    "    'min': 0, \n",
    "    'max': 4,\n",
    "    'palette': '001133',\n",
    "};\n",
    "m.addLayer(extent_image_3975,extent_falseColorVis,'3975_extent')\n",
    "\n"
   ]
  },
  {
   "cell_type": "code",
   "execution_count": null,
   "id": "4c5a180e",
   "metadata": {},
   "outputs": [],
   "source": []
  }
 ],
 "metadata": {
  "kernelspec": {
   "display_name": "Python 3 (ipykernel)",
   "language": "python",
   "name": "python3"
  },
  "language_info": {
   "codemirror_mode": {
    "name": "ipython",
    "version": 3
   },
   "file_extension": ".py",
   "mimetype": "text/x-python",
   "name": "python",
   "nbconvert_exporter": "python",
   "pygments_lexer": "ipython3",
   "version": "3.12.0"
  }
 },
 "nbformat": 4,
 "nbformat_minor": 5
}
