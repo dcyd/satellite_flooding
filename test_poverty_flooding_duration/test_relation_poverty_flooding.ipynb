{
 "cells": [
  {
   "cell_type": "markdown",
   "metadata": {},
   "source": [
    "## 数据：\n",
    "### 1.历史洪涝duration数据\n",
    "Global Flood Database (cloudtostreet.info)\n",
    "### 2.财富数据\n",
    "可选数据1：Bangladesh 1km Resolution Poverty Estimates - Mapping poverty using mobile phone and satellite data - Humanitarian Data Exchange (humdata.org)\n",
    "论文：Mapping poverty using mobile phone and satellite data | Journal of The Royal Society Interface (royalsocietypublishing.org)\n",
    "\n",
    "可选数据2：\n",
    "Relative Wealth Index - Humanitarian Data Exchange (humdata.org)\n",
    "论文：Microestimates of wealth for all low- and middle-income countries | PNAS\n",
    "\n",
    "## 方法\n",
    "渍水的duration\n"
   ]
  },
  {
   "cell_type": "code",
   "execution_count": null,
   "metadata": {},
   "outputs": [],
   "source": []
  }
 ],
 "metadata": {
  "language_info": {
   "name": "python"
  }
 },
 "nbformat": 4,
 "nbformat_minor": 2
}
