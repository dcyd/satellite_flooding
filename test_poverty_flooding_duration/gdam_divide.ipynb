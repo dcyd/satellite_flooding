{
 "cells": [
  {
   "cell_type": "code",
   "execution_count": 1,
   "metadata": {},
   "outputs": [
    {
     "name": "stderr",
     "output_type": "stream",
     "text": [
      "d:\\ProgramData\\Anaconda3\\envs\\earthe\\Lib\\site-packages\\osgeo\\ogr.py:560: FutureWarning: Neither ogr.UseExceptions() nor ogr.DontUseExceptions() has been explicitly called. In GDAL 4.0, exceptions will be enabled by default.\n",
      "  warnings.warn(\n"
     ]
    },
    {
     "name": "stdout",
     "output_type": "stream",
     "text": [
      "Conversion completed\n"
     ]
    }
   ],
   "source": [
    "from osgeo import ogr, osr\n",
    "import os\n",
    "\n",
    "# Source and destination file paths\n",
    "source_file = \"H:\\\\Research\\\\Data\\\\for_dif_types\\\\Boundary\\\\gadm_410-gpkg\\\\gadm_410.gpkg\"  # Replace with your GPKG file path\n",
    "destination_dir = \"H:\\\\Research\\\\Data\\\\for_dif_types\\\\Boundary\\\\\"  # Replace with your desired output directory\n",
    "destination_file = os.path.join(destination_dir, \"output.shp\")\n",
    "\n",
    "# Open the GPKG file\n",
    "driver = ogr.GetDriverByName('GPKG')\n",
    "dataSource = driver.Open(source_file, 0)  # 0 means read-only mode\n",
    "\n",
    "# Get the first layer from the GPKG\n",
    "layer = dataSource.GetLayer()\n",
    "\n",
    "# Create the output Shapefile\n",
    "shp_driver = ogr.GetDriverByName(\"ESRI Shapefile\")\n",
    "if os.path.exists(destination_file):\n",
    "    shp_driver.DeleteDataSource(destination_file)\n",
    "outDataSource = shp_driver.CreateDataSource(destination_file)\n",
    "outLayer = outDataSource.CreateLayer(\"output\", geom_type=layer.GetGeomType())\n",
    "\n",
    "# Add fields to the output Shapefile\n",
    "layerDefn = layer.GetLayerDefn()\n",
    "for i in range(layerDefn.GetFieldCount()):\n",
    "    fieldDefn = layerDefn.GetFieldDefn(i)\n",
    "    outLayer.CreateField(fieldDefn)\n",
    "\n",
    "# Get the output layer's feature definition\n",
    "outLayerDefn = outLayer.GetLayerDefn()\n",
    "\n",
    "# Loop through the input features and add them to the output\n",
    "for inFeature in layer:\n",
    "    outFeature = ogr.Feature(outLayerDefn)\n",
    "    outFeature.SetGeometry(inFeature.GetGeometryRef().Clone())\n",
    "    for i in range(outLayerDefn.GetFieldCount()):\n",
    "        outFeature.SetField(outLayerDefn.GetFieldDefn(i).GetNameRef(), inFeature.GetField(i))\n",
    "    outLayer.CreateFeature(outFeature)\n",
    "    outFeature = None\n",
    "\n",
    "# Close the data sources\n",
    "dataSource = None\n",
    "outDataSource = None\n",
    "\n",
    "print(\"Conversion completed\")\n"
   ]
  }
 ],
 "metadata": {
  "kernelspec": {
   "display_name": "earthe",
   "language": "python",
   "name": "python3"
  },
  "language_info": {
   "codemirror_mode": {
    "name": "ipython",
    "version": 3
   },
   "file_extension": ".py",
   "mimetype": "text/x-python",
   "name": "python",
   "nbconvert_exporter": "python",
   "pygments_lexer": "ipython3",
   "version": "3.12.0"
  }
 },
 "nbformat": 4,
 "nbformat_minor": 2
}
