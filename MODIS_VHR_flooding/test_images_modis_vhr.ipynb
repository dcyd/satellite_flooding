{
 "cells": [
  {
   "cell_type": "code",
   "execution_count": 1,
   "metadata": {},
   "outputs": [
    {
     "name": "stderr",
     "output_type": "stream",
     "text": [
      "*** Earth Engine *** Share your feedback by taking our Annual Developer Satisfaction Survey: https://google.qualtrics.com/jfe/form/SV_doiqkQG3NJ1t8IS?source=API\n"
     ]
    }
   ],
   "source": [
    "import ee\n",
    "\n",
    "# ee.Authenticate()\n",
    "\n",
    "ee.Initialize()\n",
    "\n"
   ]
  },
  {
   "cell_type": "code",
   "execution_count": 2,
   "metadata": {},
   "outputs": [],
   "source": [
    "from dataset import generate_train_val"
   ]
  },
  {
   "cell_type": "code",
   "execution_count": 4,
   "metadata": {},
   "outputs": [
    {
     "name": "stdout",
     "output_type": "stream",
     "text": [
      "E:\\code\\Py_workplace\\spacenet8\\Data\\Germany_Training_Public\\PRE-event\\10500500C4DD7000_0_29_60.tif\n",
      "ee.Geometry({\n",
      "  \"functionInvocationValue\": {\n",
      "    \"functionName\": \"GeometryConstructors.Polygon\",\n",
      "    \"arguments\": {\n",
      "      \"coordinates\": {\n",
      "        \"constantValue\": [\n",
      "          [\n",
      "            6.980974459315498,\n",
      "            50.526201911491505\n",
      "          ],\n",
      "          [\n",
      "            6.980974459315498,\n",
      "            50.52621314043255\n",
      "          ],\n",
      "          [\n",
      "            6.98584033377115,\n",
      "            50.52621314043255\n",
      "          ],\n",
      "          [\n",
      "            6.98584033377115,\n",
      "            50.526201911491505\n",
      "          ]\n",
      "        ]\n",
      "      },\n",
      "      \"crs\": {\n",
      "        \"functionInvocationValue\": {\n",
      "          \"functionName\": \"Projection\",\n",
      "          \"arguments\": {\n",
      "            \"crs\": {\n",
      "              \"constantValue\": \"EPSG:4326\"\n",
      "            }\n",
      "          }\n",
      "        }\n",
      "      }\n",
      "    }\n",
      "  }\n",
      "})\n"
     ]
    }
   ],
   "source": [
    "\n",
    "root_path = \"E:\\\\code\\\\Py_workplace\\\\spacenet8\\\\Data\"\n",
    "spacenet_csv_path = \"E:\\\\code\\\\Py_workplace\\\\spacenet8\\\\Data\\\\train_val_csv\"\n",
    "csv_path = \"E:\\\\code\\\\Py_workplace\\\\spacenet8\\\\Data\"\n",
    "\n",
    "\n",
    "##### train val split as random\n",
    "# image_dirs = [os.path.join(root_dir, n) for n in aois]\n",
    "# make_train_val_csvs(image_dirs, os.path.join(out_dir, out_csv_basename), val_percent=val_percent)\n",
    "generate_train_val(root_path, spacenet_csv_path, csv_path)\n"
   ]
  }
 ],
 "metadata": {
  "kernelspec": {
   "display_name": "satellite_flooding",
   "language": "python",
   "name": "python3"
  },
  "language_info": {
   "codemirror_mode": {
    "name": "ipython",
    "version": 3
   },
   "file_extension": ".py",
   "mimetype": "text/x-python",
   "name": "python",
   "nbconvert_exporter": "python",
   "pygments_lexer": "ipython3",
   "version": "3.8.15"
  }
 },
 "nbformat": 4,
 "nbformat_minor": 2
}
