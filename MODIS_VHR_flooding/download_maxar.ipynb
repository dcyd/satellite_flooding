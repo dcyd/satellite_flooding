{
 "cells": [
  {
   "cell_type": "markdown",
   "metadata": {},
   "source": [
    "**Louisiana after Hurricane Ida end of August 2021**\n",
    "https://www.maxar.com/open-data/hurricane-ida"
   ]
  },
  {
   "cell_type": "code",
   "execution_count": null,
   "metadata": {},
   "outputs": [],
   "source": [
    "# 导入requests库，用于发送HTTP请求\n",
    "import requests\n",
    "\n",
    "# 定义一个函数，用于从url中提取日期和文件名\n",
    "def get_date_and_filename(url):\n",
    "  # 假设url的格式为https://example.com/yyyy/mm/dd/filename.tif\n",
    "  # 使用split方法，按照/分割url，得到一个列表\n",
    "  url_parts = url.split(\"/\")\n",
    "  # 从列表中取出最后四个元素，分别是年、月、日、文件名\n",
    "  date, name, filename = url_parts[6:]\n",
    "  # 返回一个元组，包含日期和文件名\n",
    "  return (date, filename)\n",
    "\n",
    "# 定义一个列表，存放所有要下载的文件的url\n",
    "urls = [\n",
    "  # 这里可以添加你的url，每个url用逗号分隔，用引号括起来\n",
    "  \"https://opendata.digitalglobe.com/events/hurricane-ida21/pre-event/2020-06-17/105001001DD56B00/105001001DD56B00.tif\",1\n",
    "  \"https://opendata.digitalglobe.com/events/hurricane-ida21/post-event/2021-09-11/10300100C57EC700/10300100C57EC700.tif\",1\n",
    "  \"https://opendata.digitalglobe.com/events/hurricane-ida21/post-event/2021-09-11/10300100C540A500/10300100C540A500.tif\",1\n",
    "  \"https://opendata.digitalglobe.com/events/hurricane-ida21/post-event/2021-09-05/10300100C52CAD00/10300100C52CAD00.tif\",1\n",
    "  \"https://opendata.digitalglobe.com/events/hurricane-ida21/post-event/2021-08-31/1050010026B2FD00/1050010026B2FD00.tif\",1\n",
    "  \"https://opendata.digitalglobe.com/events/hurricane-ida21/post-event/2021-08-31/1050010026B2FC00/1050010026B2FC00.tif\",1\n",
    "  \"https://opendata.digitalglobe.com/events/hurricane-ida21/post-event/2021-08-31/10300100C5735600/10300100C5735600.tif\",1\n",
    "  \"https://opendata.digitalglobe.com/events/hurricane-ida21/post-event/2021-08-31/10300100C5474600/10300100C5474600.tif\",1\n",
    "  \"https://opendata.digitalglobe.com/events/hurricane-ida21/post-event/2021-08-31/10300100C51FE500/10300100C51FE500.tif\",1\n",
    "  \"https://opendata.digitalglobe.com/events/hurricane-ida21/post-event/2021-08-31/10300100C4AB0300/10300100C4AB0300.tif\",1\n",
    "  \"https://opendata.digitalglobe.com/events/hurricane-ida21/post-event/2021-08-31/10300100C46F5900/10300100C46F5900.tif\",1\n",
    "  \"https://opendata.digitalglobe.com/events/hurricane-ida21/post-event/2021-08-31/10300100C459C000/10300100C459C000.tif\",1\n",
    "  \"https://opendata.digitalglobe.com/events/hurricane-ida21/post-event/2021-08-31/10300100C4171800/10300100C4171800.tif\",1\n",
    "  \"https://opendata.digitalglobe.com/events/hurricane-ida21/pre-event/2021-07-27/10300100C3374500/10300100C3374500.tif\",1\n",
    "  \"https://opendata.digitalglobe.com/events/hurricane-ida21/pre-event/2021-05-14/10500100244DA100/10500100244DA100.tif\",1\n",
    "  \"https://opendata.digitalglobe.com/events/hurricane-ida21/pre-event/2021-01-29/10300100B4D31D00/10300100B4D31D00.tif\",1\n",
    "  \"https://opendata.digitalglobe.com/events/hurricane-ida21/pre-event/2021-01-29/10300100B3414E00/10300100B3414E00.tif\",1\n",
    "  \"https://opendata.digitalglobe.com/events/hurricane-ida21/pre-event/2021-01-07/10300100B5827200/10300100B5827200.tif\",1\n",
    "  \"https://opendata.digitalglobe.com/events/hurricane-ida21/pre-event/2021-01-05/1050010021BB3200/1050010021BB3200.tif\",1\n",
    "  \"https://opendata.digitalglobe.com/events/hurricane-ida21/pre-event/2020-11-22/10300100B058C700/10300100B058C700.tif\",1\n",
    "  \"https://opendata.digitalglobe.com/events/hurricane-ida21/pre-event/2020-11-22/10300100AF395C00/10300100AF395C00.tif\",1\n",
    "  \"https://opendata.digitalglobe.com/events/hurricane-ida21/pre-event/2020-10-29/10300100B07DF800/10300100B07DF800.tif\",1\n",
    "  \"https://opendata.digitalglobe.com/events/hurricane-ida21/pre-event/2020-06-20/105001001E0A3300/105001001E0A3300.tif\",1\n",
    "  \"https://opendata.digitalglobe.com/events/hurricane-ida21/pre-event/2020-02-21/105001001B76D700/105001001B76D700.tif\",1\n",
    "  \"https://opendata.digitalglobe.com/events/hurricane-ida21/pre-event/2020-01-09/10400100568CE100/10400100568CE100.tif\",1\n",
    "  \"https://opendata.digitalglobe.com/events/hurricane-ida21/pre-event/2019-11-28/105001001A0FFC00/105001001A0FFC00.tif\",1\n",
    "  \"https://opendata.digitalglobe.com/events/hurricane-ida21/pre-event/2019-10-23/1050010019602400/1050010019602400.tif\",1\n",
    "  \"https://opendata.digitalglobe.com/events/hurricane-ida21/pre-event/2021-04-21/10400100684A4B00/10400100684A4B00.tif\",0\n",
    "  \"https://opendata.digitalglobe.com/events/hurricane-ida21/pre-event/2021-01-03/104001006504F400/104001006504F400.tif\",0\n",
    "  \"https://opendata.digitalglobe.com/events/hurricane-ida21/pre-event/2021-01-13/10300100B3863900/10300100B3863900.tif\",0\n",
    "]\n",
    "\n",
    "# 遍历列表中的每个url\n",
    "for url in urls:\n",
    "  # 调用get_date_and_filename函数，得到日期和文件名\n",
    "  date, filename = get_date_and_filename(url)\n",
    "  # 使用requests库的get方法，发送一个GET请求，获取文件的内容\n",
    "  response = requests.get(url)\n",
    "  # 检查响应的状态码，如果是200，表示请求成功\n",
    "  if response.status_code == 200:\n",
    "    # 使用日期和文件名拼接一个新的文件名，用于保存文件\n",
    "    new_filename = date + \"_\" + filename\n",
    "    # 使用open函数，以二进制写入模式，打开一个新的文件\n",
    "    with open(new_filename, \"wb\") as f:\n",
    "      # 将响应的内容写入文件\n",
    "      f.write(response.content)\n",
    "      # 打印一条信息，表示文件下载成功\n",
    "      print(f\"Downloaded {url} as {new_filename}\")\n",
    "  else:\n",
    "    # 如果状态码不是200，表示请求失败，打印一条错误信息\n",
    "    print(f\"Failed to download {url}, status code: {response.status_code}\")\n"
   ]
  },
  {
   "cell_type": "markdown",
   "metadata": {},
   "source": [
    "**Germany after heavy rains in early July 2021**\n",
    "Germany flooding: https://www.maxar.com/open-data/western-europe-flooding\n",
    "\n"
   ]
  },
  {
   "cell_type": "code",
   "execution_count": null,
   "metadata": {},
   "outputs": [],
   "source": [
    "  https://opendata.digitalglobe.com/events/western-europe-flooding21/pre-event/2021-02-11/10500500C4DD7100/10500500C4DD7100.tif 1\n",
    "  https://opendata.digitalglobe.com/events/western-europe-flooding21/pre-event/2021-02-11/10500500C4DD7000/10500500C4DD7000.tif 1\n",
    "  https://opendata.digitalglobe.com/events/western-europe-flooding21/post-event/2021-07-21/1040050035DC3B00/1040050035DC3B00.tif 1\n",
    "  https://opendata.digitalglobe.com/events/western-europe-flooding21/pre-event/2021-07-11/10200100B49A4000/10200100B49A4000.tif\n",
    "  https://opendata.digitalglobe.com/events/western-europe-flooding21/pre-event/2021-07-11/10200100B396B200/10200100B396B200.tif\n",
    "  https://opendata.digitalglobe.com/events/western-europe-flooding21/pre-event/2018-07-01/104001003E791C00/104001003E791C00.tif\n",
    "  https://opendata.digitalglobe.com/events/western-europe-flooding21/post-event/2021-07-18/10500500E6DD3C00/10500500E6DD3C00.tif 1"
   ]
  }
 ],
 "metadata": {
  "kernelspec": {
   "display_name": "satellite_flooding",
   "language": "python",
   "name": "python3"
  },
  "language_info": {
   "codemirror_mode": {
    "name": "ipython",
    "version": 3
   },
   "file_extension": ".py",
   "mimetype": "text/x-python",
   "name": "python",
   "nbconvert_exporter": "python",
   "pygments_lexer": "ipython3",
   "version": "3.8.15"
  }
 },
 "nbformat": 4,
 "nbformat_minor": 2
}
