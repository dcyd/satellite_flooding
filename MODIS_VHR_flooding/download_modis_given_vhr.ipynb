{
 "cells": [
  {
   "cell_type": "code",
   "execution_count": 1,
   "metadata": {},
   "outputs": [],
   "source": [
    "import ee\n",
    "\n",
    "# ee.Authenticate()\n",
    "\n",
    "ee.Initialize()"
   ]
  },
  {
   "cell_type": "code",
   "execution_count": 2,
   "metadata": {},
   "outputs": [],
   "source": [
    "\n",
    "import georasters as gr\n",
    "# import ee\n",
    "import modis_toolbox as mod_tol\n"
   ]
  },
  {
   "cell_type": "code",
   "execution_count": 3,
   "metadata": {},
   "outputs": [
    {
     "name": "stdout",
     "output_type": "stream",
     "text": [
      "left: 6.691455796986715\n",
      "top: 50.58876356793541\n",
      "right: 7.084461409524862\n",
      "bottom: 50.29602790441625\n"
     ]
    }
   ],
   "source": [
    "import gdal\n",
    "one_vhr = \"E:\\\\code\\\\Py_workplace\\\\satellite_flooding\\\\Data\\\\Germany\\\\Post\\\\20210718_10500500E6DD3C00.tif\"\n",
    "\n",
    "# 打开tif文件\n",
    "dataset = gdal.Open(one_vhr)\n",
    "\n",
    "# 获取地理参考信息\n",
    "geotransform = dataset.GetGeoTransform()\n",
    "left = geotransform[0] # 左上角像素的经度\n",
    "top = geotransform[3] # 左上角像素的纬度\n",
    "right = left + geotransform[1] * dataset.RasterXSize # 右下角像素的经度\n",
    "bottom = top + geotransform[5] * dataset.RasterYSize # 右下角像素的纬度\n",
    "\n",
    "# 打印left、top、right、bottom四个参数\n",
    "print(\"left:\", left)\n",
    "print(\"top:\", top)\n",
    "print(\"right:\", right)\n",
    "print(\"bottom:\", bottom)"
   ]
  },
  {
   "cell_type": "code",
   "execution_count": null,
   "metadata": {},
   "outputs": [],
   "source": [
    "geometry = ee.Geometry.Polygon([[left, bottom],\n",
    "                            [left, top],\n",
    "                            [right, top],\n",
    "                            [right, bottom]],proj=\"EPSG:4326\") # the proj is determinted in QGIS\n",
    "\n",
    "if 'Germany' in one_vhr:\n",
    "    # one_pre_modis_ima = mod_tol.get_modis_terra_aqua(geometry, ee.DateRange(german_pre_date[0], german_pre_date[1]))\n",
    "    one_post_modis_ima = mod_tol.get_modis_terra_aqua(geometry, ee.DateRange(german_post_date[0], german_post_date[1]))\n",
    "elif 'Louisian' in one_vhr:\n",
    "    # one_pre_modis_ima = mod_tol.get_modis_terra_aqua(geometry, ee.DateRange(louisian_pre_date[0], louisian_pre_date[1]))\n",
    "    one_post_modis_ima = mod_tol.get_modis_terra_aqua(geometry, ee.DateRange(louisian_post_date[0], louisian_post_date[1]))"
   ]
  },
  {
   "cell_type": "code",
   "execution_count": 3,
   "metadata": {},
   "outputs": [
    {
     "name": "stdout",
     "output_type": "stream",
     "text": [
      "50.588744963825874\n",
      "50.58876356793541\n"
     ]
    }
   ],
   "source": [
    "# one_vhr = \"E:\\\\code\\\\Py_workplace\\\\satellite_flooding\\\\Data\\\\Germany\\\\Post\\\\20210718_10500500E6DD3C00.tif\"\n",
    "\n",
    "german_post_date = ['2021-07-18', '2021-07-19']\n",
    "\n",
    "preim_ds = gr.from_file(one_vhr)\n",
    "left, bottom, right, top = preim_ds.bounds\n",
    "\n",
    "geometry = ee.Geometry.Polygon([[left, bottom],\n",
    "                            [left, top],\n",
    "                            [right, top],\n",
    "                            [right, bottom]],proj=\"EPSG:4326\") # the proj is determinted in QGIS\n",
    "print(bottom)\n",
    "print(top)\n",
    "if 'Germany' in one_vhr:\n",
    "    # one_pre_modis_ima = mod_tol.get_modis_terra_aqua(geometry, ee.DateRange(german_pre_date[0], german_pre_date[1]))\n",
    "    one_post_modis_ima = mod_tol.get_modis_terra_aqua(geometry, ee.DateRange(german_post_date[0], german_post_date[1]))\n",
    "elif 'Louisian' in one_vhr:\n",
    "    # one_pre_modis_ima = mod_tol.get_modis_terra_aqua(geometry, ee.DateRange(louisian_pre_date[0], louisian_pre_date[1]))\n",
    "    one_post_modis_ima = mod_tol.get_modis_terra_aqua(geometry, ee.DateRange(louisian_post_date[0], louisian_post_date[1]))"
   ]
  },
  {
   "cell_type": "code",
   "execution_count": 8,
   "metadata": {},
   "outputs": [
    {
     "data": {
      "text/html": [
       "\n",
       "            <style>\n",
       "                .geemap-dark {\n",
       "                    --jp-widgets-color: white;\n",
       "                    --jp-widgets-label-color: white;\n",
       "                    --jp-ui-font-color1: white;\n",
       "                    --jp-layout-color2: #454545;\n",
       "                    background-color: #383838;\n",
       "                }\n",
       "                    \n",
       "                .geemap-dark .jupyter-button {\n",
       "                    --jp-layout-color3: #383838;\n",
       "                }\n",
       "                \n",
       "                .geemap-colab {\n",
       "                    background-color: var(--colab-primary-surface-color, white);\n",
       "                }\n",
       "                    \n",
       "                .geemap-colab .jupyter-button {\n",
       "                    --jp-layout-color3: var(--colab-primary-surface-color, white);\n",
       "                }\n",
       "            </style>\n",
       "            "
      ],
      "text/plain": [
       "<IPython.core.display.HTML object>"
      ]
     },
     "metadata": {},
     "output_type": "display_data"
    },
    {
     "name": "stdout",
     "output_type": "stream",
     "text": [
      "ee.Geometry({\n",
      "  \"functionInvocationValue\": {\n",
      "    \"functionName\": \"GeometryConstructors.Polygon\",\n",
      "    \"arguments\": {\n",
      "      \"coordinates\": {\n",
      "        \"constantValue\": [\n",
      "          [\n",
      "            6.691455796986715,\n",
      "            50.588744963825874\n",
      "          ],\n",
      "          [\n",
      "            6.691455796986715,\n",
      "            50.58876356793541\n",
      "          ],\n",
      "          [\n",
      "            6.984191460505874,\n",
      "            50.58876356793541\n",
      "          ],\n",
      "          [\n",
      "            6.984191460505874,\n",
      "            50.588744963825874\n",
      "          ]\n",
      "        ]\n",
      "      },\n",
      "      \"crs\": {\n",
      "        \"functionInvocationValue\": {\n",
      "          \"functionName\": \"Projection\",\n",
      "          \"arguments\": {\n",
      "            \"crs\": {\n",
      "              \"constantValue\": \"EPSG:4326\"\n",
      "            }\n",
      "          }\n",
      "        }\n",
      "      }\n",
      "    }\n",
      "  }\n",
      "})\n"
     ]
    }
   ],
   "source": [
    "print(geometry)"
   ]
  },
  {
   "cell_type": "code",
   "execution_count": 5,
   "metadata": {},
   "outputs": [
    {
     "data": {
      "text/html": [
       "\n",
       "            <style>\n",
       "                .geemap-dark {\n",
       "                    --jp-widgets-color: white;\n",
       "                    --jp-widgets-label-color: white;\n",
       "                    --jp-ui-font-color1: white;\n",
       "                    --jp-layout-color2: #454545;\n",
       "                    background-color: #383838;\n",
       "                }\n",
       "                    \n",
       "                .geemap-dark .jupyter-button {\n",
       "                    --jp-layout-color3: #383838;\n",
       "                }\n",
       "                \n",
       "                .geemap-colab {\n",
       "                    background-color: var(--colab-primary-surface-color, white);\n",
       "                }\n",
       "                    \n",
       "                .geemap-colab .jupyter-button {\n",
       "                    --jp-layout-color3: var(--colab-primary-surface-color, white);\n",
       "                }\n",
       "            </style>\n",
       "            "
      ],
      "text/plain": [
       "<IPython.core.display.HTML object>"
      ]
     },
     "metadata": {},
     "output_type": "display_data"
    },
    {
     "name": "stdout",
     "output_type": "stream",
     "text": [
      "Total number of images: 2\n",
      "\n",
      "Downloading 1/2: 1_2021_07_18_2021_07_18.tif\n"
     ]
    },
    {
     "data": {
      "application/vnd.jupyter.widget-view+json": {
       "model_id": "746825c436264bcca81985b6531d42e5",
       "version_major": 2,
       "version_minor": 0
      },
      "text/plain": [
       "1_2021_07_18_2021_07_18.tif: |          | 0.00/7.92k (raw) [  0.0%] in 00:00 (eta:     ?)"
      ]
     },
     "metadata": {},
     "output_type": "display_data"
    },
    {
     "name": "stdout",
     "output_type": "stream",
     "text": [
      "Downloading 2/2: 2_2021_07_18_2021_07_18.tif\n"
     ]
    },
    {
     "data": {
      "application/vnd.jupyter.widget-view+json": {
       "model_id": "3ad016e050804ebe80f53399194915b6",
       "version_major": 2,
       "version_minor": 0
      },
      "text/plain": [
       "2_2021_07_18_2021_07_18.tif: |          | 0.00/7.92k (raw) [  0.0%] in 00:00 (eta:     ?)"
      ]
     },
     "metadata": {},
     "output_type": "display_data"
    }
   ],
   "source": [
    "import geemap\n",
    "\n",
    "geemap.download_ee_image_collection(one_post_modis_ima,region=geometry)"
   ]
  },
  {
   "cell_type": "markdown",
   "metadata": {},
   "source": [
    "## test get_modis function"
   ]
  },
  {
   "cell_type": "code",
   "execution_count": 2,
   "metadata": {},
   "outputs": [
    {
     "data": {
      "text/html": [
       "\n",
       "            <style>\n",
       "                .geemap-dark {\n",
       "                    --jp-widgets-color: white;\n",
       "                    --jp-widgets-label-color: white;\n",
       "                    --jp-ui-font-color1: white;\n",
       "                    --jp-layout-color2: #454545;\n",
       "                    background-color: #383838;\n",
       "                }\n",
       "                    \n",
       "                .geemap-dark .jupyter-button {\n",
       "                    --jp-layout-color3: #383838;\n",
       "                }\n",
       "                \n",
       "                .geemap-colab {\n",
       "                    background-color: var(--colab-primary-surface-color, white);\n",
       "                }\n",
       "                    \n",
       "                .geemap-colab .jupyter-button {\n",
       "                    --jp-layout-color3: var(--colab-primary-surface-color, white);\n",
       "                }\n",
       "            </style>\n",
       "            "
      ],
      "text/plain": [
       "<IPython.core.display.HTML object>"
      ]
     },
     "metadata": {},
     "output_type": "display_data"
    }
   ],
   "source": [
    "from dataset import get_modis_list_given_vhr, get_one_modis_given_vhr\n",
    "one_vhr = \"E:\\\\code\\\\Py_workplace\\\\satellite_flooding\\\\Data\\\\Germany\\\\Post\\\\20210718_10500500E6DD3C00.tif\"\n",
    "\n",
    "get_one_modis_given_vhr(one_vhr)\n"
   ]
  }
 ],
 "metadata": {
  "kernelspec": {
   "display_name": "satellite_flooding",
   "language": "python",
   "name": "python3"
  },
  "language_info": {
   "codemirror_mode": {
    "name": "ipython",
    "version": 3
   },
   "file_extension": ".py",
   "mimetype": "text/x-python",
   "name": "python",
   "nbconvert_exporter": "python",
   "pygments_lexer": "ipython3",
   "version": "3.8.15"
  }
 },
 "nbformat": 4,
 "nbformat_minor": 2
}
