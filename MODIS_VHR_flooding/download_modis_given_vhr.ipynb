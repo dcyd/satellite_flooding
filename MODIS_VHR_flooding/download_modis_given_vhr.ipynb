{
 "cells": [
  {
   "cell_type": "code",
   "execution_count": 1,
   "metadata": {},
   "outputs": [
    {
     "data": {
      "text/html": [
       "<p>To authorize access needed by Earth Engine, open the following\n",
       "        URL in a web browser and follow the instructions:</p>\n",
       "        <p><a href=https://code.earthengine.google.com/client-auth?scopes=https%3A//www.googleapis.com/auth/earthengine%20https%3A//www.googleapis.com/auth/devstorage.full_control&request_id=RuCIxZsE0u9MAEplhPphyopdJm_lGmeBnY0GLyg59eg&tc=H1vk_j5OuIQ4fEIBijSlbYW5IWGSDkZiBlyUXqCBM7M&cc=oF4WcLdH1dkgifKy2dSTJNf9b57TxgPCyN58gaWKrHA>https://code.earthengine.google.com/client-auth?scopes=https%3A//www.googleapis.com/auth/earthengine%20https%3A//www.googleapis.com/auth/devstorage.full_control&request_id=RuCIxZsE0u9MAEplhPphyopdJm_lGmeBnY0GLyg59eg&tc=H1vk_j5OuIQ4fEIBijSlbYW5IWGSDkZiBlyUXqCBM7M&cc=oF4WcLdH1dkgifKy2dSTJNf9b57TxgPCyN58gaWKrHA</a></p>\n",
       "        <p>The authorization workflow will generate a code, which you should paste in the box below.</p>\n",
       "        "
      ],
      "text/plain": [
       "<IPython.core.display.HTML object>"
      ]
     },
     "metadata": {},
     "output_type": "display_data"
    },
    {
     "name": "stdout",
     "output_type": "stream",
     "text": [
      "\n",
      "Successfully saved authorization token.\n"
     ]
    }
   ],
   "source": [
    "import ee\n",
    "\n",
    "ee.Authenticate()\n"
   ]
  },
  {
   "cell_type": "code",
   "execution_count": 2,
   "metadata": {},
   "outputs": [],
   "source": [
    "\n",
    "ee.Initialize()"
   ]
  },
  {
   "cell_type": "code",
   "execution_count": 2,
   "metadata": {},
   "outputs": [],
   "source": [
    "\n",
    "import georasters as gr\n",
    "# import ee\n",
    "import modis_toolbox as mod_tol\n"
   ]
  },
  {
   "cell_type": "code",
   "execution_count": 3,
   "metadata": {},
   "outputs": [
    {
     "name": "stdout",
     "output_type": "stream",
     "text": [
      "left: 6.691455796986715\n",
      "top: 50.58876356793541\n",
      "right: 7.084461409524862\n",
      "bottom: 50.29602790441625\n"
     ]
    }
   ],
   "source": [
    "import gdal\n",
    "one_vhr = \"E:\\\\code\\\\Py_workplace\\\\satellite_flooding\\\\Data\\\\Germany\\\\Post\\\\20210718_10500500E6DD3C00.tif\"\n",
    "\n",
    "# 打开tif文件\n",
    "tif_data = gdal.Open(one_vhr)\n",
    "\n",
    "# 获取地理参考信息\n",
    "geotransform = tif_data.GetGeoTransform()\n",
    "left = geotransform[0] # 左上角像素的经度\n",
    "top = geotransform[3] # 左上角像素的纬度\n",
    "right = left + geotransform[1] * tif_data.RasterXSize # 右下角像素的经度\n",
    "bottom = top + geotransform[5] * tif_data.RasterYSize # 右下角像素的纬度\n",
    "\n",
    "# 打印left、top、right、bottom四个参数\n",
    "print(\"left:\", left)\n",
    "print(\"top:\", top)\n",
    "print(\"right:\", right)\n",
    "print(\"bottom:\", bottom)"
   ]
  },
  {
   "cell_type": "code",
   "execution_count": null,
   "metadata": {},
   "outputs": [],
   "source": [
    "geometry = ee.Geometry.Polygon([[left, bottom],\n",
    "                            [left, top],\n",
    "                            [right, top],\n",
    "                            [right, bottom]],proj=\"EPSG:4326\") # the proj is determinted in QGIS\n",
    "\n",
    "if 'Germany' in one_vhr:\n",
    "    # one_pre_modis_ima = mod_tol.get_modis_terra_aqua(geometry, ee.DateRange(german_pre_date[0], german_pre_date[1]))\n",
    "    one_post_modis_ima = mod_tol.get_modis_terra_aqua(geometry, ee.DateRange(german_post_date[0], german_post_date[1]))\n",
    "elif 'Louisian' in one_vhr:\n",
    "    # one_pre_modis_ima = mod_tol.get_modis_terra_aqua(geometry, ee.DateRange(louisian_pre_date[0], louisian_pre_date[1]))\n",
    "    one_post_modis_ima = mod_tol.get_modis_terra_aqua(geometry, ee.DateRange(louisian_post_date[0], louisian_post_date[1]))"
   ]
  },
  {
   "cell_type": "code",
   "execution_count": 3,
   "metadata": {},
   "outputs": [
    {
     "name": "stdout",
     "output_type": "stream",
     "text": [
      "50.588744963825874\n",
      "50.58876356793541\n"
     ]
    }
   ],
   "source": [
    "# one_vhr = \"E:\\\\code\\\\Py_workplace\\\\satellite_flooding\\\\Data\\\\Germany\\\\Post\\\\20210718_10500500E6DD3C00.tif\"\n",
    "\n",
    "german_post_date = ['2021-07-18', '2021-07-19']\n",
    "\n",
    "preim_ds = gr.from_file(one_vhr)\n",
    "left, bottom, right, top = preim_ds.bounds\n",
    "\n",
    "geometry = ee.Geometry.Polygon([[left, bottom],\n",
    "                            [left, top],\n",
    "                            [right, top],\n",
    "                            [right, bottom]],proj=\"EPSG:4326\") # the proj is determinted in QGIS\n",
    "print(bottom)\n",
    "print(top)\n",
    "if 'Germany' in one_vhr:\n",
    "    # one_pre_modis_ima = mod_tol.get_modis_terra_aqua(geometry, ee.DateRange(german_pre_date[0], german_pre_date[1]))\n",
    "    one_post_modis_ima = mod_tol.get_modis_terra_aqua(geometry, ee.DateRange(german_post_date[0], german_post_date[1]))\n",
    "elif 'Louisian' in one_vhr:\n",
    "    # one_pre_modis_ima = mod_tol.get_modis_terra_aqua(geometry, ee.DateRange(louisian_pre_date[0], louisian_pre_date[1]))\n",
    "    one_post_modis_ima = mod_tol.get_modis_terra_aqua(geometry, ee.DateRange(louisian_post_date[0], louisian_post_date[1]))"
   ]
  },
  {
   "cell_type": "code",
   "execution_count": 8,
   "metadata": {},
   "outputs": [
    {
     "data": {
      "text/html": [
       "\n",
       "            <style>\n",
       "                .geemap-dark {\n",
       "                    --jp-widgets-color: white;\n",
       "                    --jp-widgets-label-color: white;\n",
       "                    --jp-ui-font-color1: white;\n",
       "                    --jp-layout-color2: #454545;\n",
       "                    background-color: #383838;\n",
       "                }\n",
       "                    \n",
       "                .geemap-dark .jupyter-button {\n",
       "                    --jp-layout-color3: #383838;\n",
       "                }\n",
       "                \n",
       "                .geemap-colab {\n",
       "                    background-color: var(--colab-primary-surface-color, white);\n",
       "                }\n",
       "                    \n",
       "                .geemap-colab .jupyter-button {\n",
       "                    --jp-layout-color3: var(--colab-primary-surface-color, white);\n",
       "                }\n",
       "            </style>\n",
       "            "
      ],
      "text/plain": [
       "<IPython.core.display.HTML object>"
      ]
     },
     "metadata": {},
     "output_type": "display_data"
    },
    {
     "name": "stdout",
     "output_type": "stream",
     "text": [
      "ee.Geometry({\n",
      "  \"functionInvocationValue\": {\n",
      "    \"functionName\": \"GeometryConstructors.Polygon\",\n",
      "    \"arguments\": {\n",
      "      \"coordinates\": {\n",
      "        \"constantValue\": [\n",
      "          [\n",
      "            6.691455796986715,\n",
      "            50.588744963825874\n",
      "          ],\n",
      "          [\n",
      "            6.691455796986715,\n",
      "            50.58876356793541\n",
      "          ],\n",
      "          [\n",
      "            6.984191460505874,\n",
      "            50.58876356793541\n",
      "          ],\n",
      "          [\n",
      "            6.984191460505874,\n",
      "            50.588744963825874\n",
      "          ]\n",
      "        ]\n",
      "      },\n",
      "      \"crs\": {\n",
      "        \"functionInvocationValue\": {\n",
      "          \"functionName\": \"Projection\",\n",
      "          \"arguments\": {\n",
      "            \"crs\": {\n",
      "              \"constantValue\": \"EPSG:4326\"\n",
      "            }\n",
      "          }\n",
      "        }\n",
      "      }\n",
      "    }\n",
      "  }\n",
      "})\n"
     ]
    }
   ],
   "source": [
    "print(geometry)"
   ]
  },
  {
   "cell_type": "code",
   "execution_count": 5,
   "metadata": {},
   "outputs": [
    {
     "data": {
      "text/html": [
       "\n",
       "            <style>\n",
       "                .geemap-dark {\n",
       "                    --jp-widgets-color: white;\n",
       "                    --jp-widgets-label-color: white;\n",
       "                    --jp-ui-font-color1: white;\n",
       "                    --jp-layout-color2: #454545;\n",
       "                    background-color: #383838;\n",
       "                }\n",
       "                    \n",
       "                .geemap-dark .jupyter-button {\n",
       "                    --jp-layout-color3: #383838;\n",
       "                }\n",
       "                \n",
       "                .geemap-colab {\n",
       "                    background-color: var(--colab-primary-surface-color, white);\n",
       "                }\n",
       "                    \n",
       "                .geemap-colab .jupyter-button {\n",
       "                    --jp-layout-color3: var(--colab-primary-surface-color, white);\n",
       "                }\n",
       "            </style>\n",
       "            "
      ],
      "text/plain": [
       "<IPython.core.display.HTML object>"
      ]
     },
     "metadata": {},
     "output_type": "display_data"
    },
    {
     "name": "stdout",
     "output_type": "stream",
     "text": [
      "Total number of images: 2\n",
      "\n",
      "Downloading 1/2: 1_2021_07_18_2021_07_18.tif\n"
     ]
    },
    {
     "data": {
      "application/vnd.jupyter.widget-view+json": {
       "model_id": "746825c436264bcca81985b6531d42e5",
       "version_major": 2,
       "version_minor": 0
      },
      "text/plain": [
       "1_2021_07_18_2021_07_18.tif: |          | 0.00/7.92k (raw) [  0.0%] in 00:00 (eta:     ?)"
      ]
     },
     "metadata": {},
     "output_type": "display_data"
    },
    {
     "name": "stdout",
     "output_type": "stream",
     "text": [
      "Downloading 2/2: 2_2021_07_18_2021_07_18.tif\n"
     ]
    },
    {
     "data": {
      "application/vnd.jupyter.widget-view+json": {
       "model_id": "3ad016e050804ebe80f53399194915b6",
       "version_major": 2,
       "version_minor": 0
      },
      "text/plain": [
       "2_2021_07_18_2021_07_18.tif: |          | 0.00/7.92k (raw) [  0.0%] in 00:00 (eta:     ?)"
      ]
     },
     "metadata": {},
     "output_type": "display_data"
    }
   ],
   "source": [
    "import geemap\n",
    "\n",
    "geemap.download_ee_image_collection(one_post_modis_ima,region=geometry)"
   ]
  },
  {
   "cell_type": "markdown",
   "metadata": {},
   "source": [
    "## test get_modis function"
   ]
  },
  {
   "cell_type": "code",
   "execution_count": null,
   "metadata": {},
   "outputs": [],
   "source": [
    "from dataset import get_modis_list_given_vhr, get_one_modis_given_vhr\n",
    "one_vhr = \"E:\\\\code\\\\Py_workplace\\\\satellite_flooding\\\\Data\\\\Germany\\\\Post\\\\20210718_10500500E6DD3C00.tif\"\n",
    "\n",
    "get_one_modis_given_vhr(one_vhr)\n"
   ]
  },
  {
   "cell_type": "code",
   "execution_count": 2,
   "metadata": {},
   "outputs": [
    {
     "data": {
      "text/html": [
       "\n",
       "            <style>\n",
       "                .geemap-dark {\n",
       "                    --jp-widgets-color: white;\n",
       "                    --jp-widgets-label-color: white;\n",
       "                    --jp-ui-font-color1: white;\n",
       "                    --jp-layout-color2: #454545;\n",
       "                    background-color: #383838;\n",
       "                }\n",
       "                    \n",
       "                .geemap-dark .jupyter-button {\n",
       "                    --jp-layout-color3: #383838;\n",
       "                }\n",
       "                \n",
       "                .geemap-colab {\n",
       "                    background-color: var(--colab-primary-surface-color, white);\n",
       "                }\n",
       "                    \n",
       "                .geemap-colab .jupyter-button {\n",
       "                    --jp-layout-color3: var(--colab-primary-surface-color, white);\n",
       "                }\n",
       "            </style>\n",
       "            "
      ],
      "text/plain": [
       "<IPython.core.display.HTML object>"
      ]
     },
     "metadata": {},
     "output_type": "display_data"
    },
    {
     "name": "stdout",
     "output_type": "stream",
     "text": [
      "20210718\n"
     ]
    },
    {
     "ename": "KeyboardInterrupt",
     "evalue": "",
     "output_type": "error",
     "traceback": [
      "\u001b[1;31m---------------------------------------------------------------------------\u001b[0m",
      "\u001b[1;31mKeyboardInterrupt\u001b[0m                         Traceback (most recent call last)",
      "\u001b[1;32me:\\code\\Py_workplace\\satellite_flooding\\MODIS_VHR_flooding\\download_modis_given_vhr.ipynb Cell 10\u001b[0m line \u001b[0;36m1\n\u001b[0;32m     <a href='vscode-notebook-cell:/e%3A/code/Py_workplace/satellite_flooding/MODIS_VHR_flooding/download_modis_given_vhr.ipynb#X12sZmlsZQ%3D%3D?line=12'>13</a>\u001b[0m             vhr_pathes\u001b[39m.\u001b[39mappend(file_path) \u001b[39m# append the file path to the list\u001b[39;00m\n\u001b[0;32m     <a href='vscode-notebook-cell:/e%3A/code/Py_workplace/satellite_flooding/MODIS_VHR_flooding/download_modis_given_vhr.ipynb#X12sZmlsZQ%3D%3D?line=13'>14</a>\u001b[0m \u001b[39m# print(vhr_pathes) # print the list of .tif files\u001b[39;00m\n\u001b[0;32m     <a href='vscode-notebook-cell:/e%3A/code/Py_workplace/satellite_flooding/MODIS_VHR_flooding/download_modis_given_vhr.ipynb#X12sZmlsZQ%3D%3D?line=14'>15</a>\u001b[0m \n\u001b[0;32m     <a href='vscode-notebook-cell:/e%3A/code/Py_workplace/satellite_flooding/MODIS_VHR_flooding/download_modis_given_vhr.ipynb#X12sZmlsZQ%3D%3D?line=15'>16</a>\u001b[0m \u001b[39m# vhr_pathes = os.walk(data_path)\u001b[39;00m\n\u001b[1;32m---> <a href='vscode-notebook-cell:/e%3A/code/Py_workplace/satellite_flooding/MODIS_VHR_flooding/download_modis_given_vhr.ipynb#X12sZmlsZQ%3D%3D?line=17'>18</a>\u001b[0m get_modis_list_given_vhr(vhr_pathes)\n",
      "File \u001b[1;32me:\\code\\Py_workplace\\satellite_flooding\\MODIS_VHR_flooding\\dataset.py:104\u001b[0m, in \u001b[0;36mget_modis_list_given_vhr\u001b[1;34m(vhr_pathes)\u001b[0m\n\u001b[0;32m    101\u001b[0m     modis_coll \u001b[39m=\u001b[39m get_one_modis_given_vhr(one_vhr)\n\u001b[0;32m    102\u001b[0m     _, filename \u001b[39m=\u001b[39m os\u001b[39m.\u001b[39mpath\u001b[39m.\u001b[39msplit(one_vhr) \u001b[39m# split the file path into path and filename\u001b[39;00m\n\u001b[1;32m--> 104\u001b[0m     geemap\u001b[39m.\u001b[39mdownload_ee_image_collection(modis_coll, \n\u001b[0;32m    105\u001b[0m                                         out_dir\u001b[39m=\u001b[39msave_path, \n\u001b[0;32m    106\u001b[0m                                         filenames\u001b[39m=\u001b[39mfilename)\n\u001b[0;32m    108\u001b[0m     modis_list\u001b[39m.\u001b[39mappend(os\u001b[39m.\u001b[39mpath\u001b[39m.\u001b[39mjoin(save_path,filename))\n\u001b[0;32m    110\u001b[0m \u001b[39mreturn\u001b[39;00m modis_list\n",
      "File \u001b[1;32me:\\code\\Py_workplace\\satellite_flooding\\MODIS_VHR_flooding\\dataset.py:104\u001b[0m, in \u001b[0;36mget_modis_list_given_vhr\u001b[1;34m(vhr_pathes)\u001b[0m\n\u001b[0;32m    101\u001b[0m     modis_coll \u001b[39m=\u001b[39m get_one_modis_given_vhr(one_vhr)\n\u001b[0;32m    102\u001b[0m     _, filename \u001b[39m=\u001b[39m os\u001b[39m.\u001b[39mpath\u001b[39m.\u001b[39msplit(one_vhr) \u001b[39m# split the file path into path and filename\u001b[39;00m\n\u001b[1;32m--> 104\u001b[0m     geemap\u001b[39m.\u001b[39mdownload_ee_image_collection(modis_coll, \n\u001b[0;32m    105\u001b[0m                                         out_dir\u001b[39m=\u001b[39msave_path, \n\u001b[0;32m    106\u001b[0m                                         filenames\u001b[39m=\u001b[39mfilename)\n\u001b[0;32m    108\u001b[0m     modis_list\u001b[39m.\u001b[39mappend(os\u001b[39m.\u001b[39mpath\u001b[39m.\u001b[39mjoin(save_path,filename))\n\u001b[0;32m    110\u001b[0m \u001b[39mreturn\u001b[39;00m modis_list\n",
      "File \u001b[1;32m_pydevd_bundle/pydevd_cython.pyx:1457\u001b[0m, in \u001b[0;36m_pydevd_bundle.pydevd_cython.SafeCallWrapper.__call__\u001b[1;34m()\u001b[0m\n",
      "File \u001b[1;32m_pydevd_bundle/pydevd_cython.pyx:701\u001b[0m, in \u001b[0;36m_pydevd_bundle.pydevd_cython.PyDBFrame.trace_dispatch\u001b[1;34m()\u001b[0m\n",
      "File \u001b[1;32m_pydevd_bundle/pydevd_cython.pyx:1152\u001b[0m, in \u001b[0;36m_pydevd_bundle.pydevd_cython.PyDBFrame.trace_dispatch\u001b[1;34m()\u001b[0m\n",
      "File \u001b[1;32m_pydevd_bundle/pydevd_cython.pyx:1135\u001b[0m, in \u001b[0;36m_pydevd_bundle.pydevd_cython.PyDBFrame.trace_dispatch\u001b[1;34m()\u001b[0m\n",
      "File \u001b[1;32m_pydevd_bundle/pydevd_cython.pyx:312\u001b[0m, in \u001b[0;36m_pydevd_bundle.pydevd_cython.PyDBFrame.do_wait_suspend\u001b[1;34m()\u001b[0m\n",
      "File \u001b[1;32md:\\ProgramData\\Anaconda3\\envs\\satellite_flooding\\lib\\site-packages\\debugpy\\_vendored\\pydevd\\pydevd.py:2070\u001b[0m, in \u001b[0;36mPyDB.do_wait_suspend\u001b[1;34m(self, thread, frame, event, arg, exception_type)\u001b[0m\n\u001b[0;32m   2067\u001b[0m             from_this_thread\u001b[39m.\u001b[39mappend(frame_custom_thread_id)\n\u001b[0;32m   2069\u001b[0m     \u001b[39mwith\u001b[39;00m \u001b[39mself\u001b[39m\u001b[39m.\u001b[39m_threads_suspended_single_notification\u001b[39m.\u001b[39mnotify_thread_suspended(thread_id, thread, stop_reason):\n\u001b[1;32m-> 2070\u001b[0m         keep_suspended \u001b[39m=\u001b[39m \u001b[39mself\u001b[39;49m\u001b[39m.\u001b[39;49m_do_wait_suspend(thread, frame, event, arg, suspend_type, from_this_thread, frames_tracker)\n\u001b[0;32m   2072\u001b[0m frames_list \u001b[39m=\u001b[39m \u001b[39mNone\u001b[39;00m\n\u001b[0;32m   2074\u001b[0m \u001b[39mif\u001b[39;00m keep_suspended:\n\u001b[0;32m   2075\u001b[0m     \u001b[39m# This means that we should pause again after a set next statement.\u001b[39;00m\n",
      "File \u001b[1;32md:\\ProgramData\\Anaconda3\\envs\\satellite_flooding\\lib\\site-packages\\debugpy\\_vendored\\pydevd\\pydevd.py:2106\u001b[0m, in \u001b[0;36mPyDB._do_wait_suspend\u001b[1;34m(self, thread, frame, event, arg, suspend_type, from_this_thread, frames_tracker)\u001b[0m\n\u001b[0;32m   2103\u001b[0m         \u001b[39mself\u001b[39m\u001b[39m.\u001b[39m_call_input_hook()\n\u001b[0;32m   2105\u001b[0m     \u001b[39mself\u001b[39m\u001b[39m.\u001b[39mprocess_internal_commands()\n\u001b[1;32m-> 2106\u001b[0m     time\u001b[39m.\u001b[39;49msleep(\u001b[39m0.01\u001b[39;49m)\n\u001b[0;32m   2108\u001b[0m \u001b[39mself\u001b[39m\u001b[39m.\u001b[39mcancel_async_evaluation(get_current_thread_id(thread), \u001b[39mstr\u001b[39m(\u001b[39mid\u001b[39m(frame)))\n\u001b[0;32m   2110\u001b[0m \u001b[39m# process any stepping instructions\u001b[39;00m\n",
      "\u001b[1;31mKeyboardInterrupt\u001b[0m: "
     ]
    }
   ],
   "source": [
    "import os\n",
    "from dataset import get_modis_list_given_vhr\n",
    "\n",
    "data_path = \"E:\\\\code\\\\Py_workplace\\\\satellite_flooding\\\\Data\\\\Germany\\\\Post\\\\\"\n",
    "\n",
    "vhr_pathes = []\n",
    "\n",
    "for dirpath, dirnames, filenames in os.walk(data_path): # traverse the folder and its subfolders\n",
    "    for filename in filenames: # iterate over each file\n",
    "        file_path = os.path.join(dirpath, filename) # join the dirpath and the filename to get the absolute path\n",
    "        name, ext = os.path.splitext(file_path) # split the file name and the extension\n",
    "        if ext == \".tif\": # if the extension is .tif\n",
    "            vhr_pathes.append(file_path) # append the file path to the list\n",
    "# print(vhr_pathes) # print the list of .tif files\n",
    "\n",
    "# vhr_pathes = os.walk(data_path)\n",
    "\n",
    "get_modis_list_given_vhr(vhr_pathes)"
   ]
  }
 ],
 "metadata": {
  "kernelspec": {
   "display_name": "satellite_flooding",
   "language": "python",
   "name": "python3"
  },
  "language_info": {
   "codemirror_mode": {
    "name": "ipython",
    "version": 3
   },
   "file_extension": ".py",
   "mimetype": "text/x-python",
   "name": "python",
   "nbconvert_exporter": "python",
   "pygments_lexer": "ipython3",
   "version": "3.8.15"
  }
 },
 "nbformat": 4,
 "nbformat_minor": 2
}
