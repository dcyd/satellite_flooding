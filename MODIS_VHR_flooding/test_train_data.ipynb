{
 "cells": [
  {
   "cell_type": "markdown",
   "metadata": {},
   "source": [
    "# get a series masks"
   ]
  },
  {
   "cell_type": "code",
   "execution_count": 1,
   "metadata": {},
   "outputs": [],
   "source": [
    "import gdal\n",
    "\n",
    "one_vhr_path = \"E:\\\\code\\\\Py_workplace\\\\satellite_flooding\\\\Data\\\\Germany\\\\Post\\\\20210718_10500500E6DD3C00.tif\"\n",
    "# Open .tif\n",
    "dataset = gdal.Open(one_vhr_path)\n",
    "\n",
    "# get the geo range\n",
    "geotransform = dataset.GetGeoTransform()\n",
    "left = geotransform[0]\n",
    "top = geotransform[3]\n",
    "right = left + geotransform[1] * dataset.RasterXSize\n",
    "bottom = top + geotransform[5] * dataset.RasterYSize\n"
   ]
  },
  {
   "cell_type": "code",
   "execution_count": 4,
   "metadata": {},
   "outputs": [
    {
     "data": {
      "text/plain": [
       "<osgeo.gdal.Driver; proxy of <Swig Object of type 'GDALDriverShadow *' at 0x0000018D19B1C6C0> >"
      ]
     },
     "execution_count": 4,
     "metadata": {},
     "output_type": "execute_result"
    }
   ],
   "source": [
    "dataset.GetDriver()\n"
   ]
  },
  {
   "cell_type": "code",
   "execution_count": 5,
   "metadata": {},
   "outputs": [
    {
     "data": {
      "text/plain": [
       "'GEOGCS[\"WGS 84\",DATUM[\"WGS_1984\",SPHEROID[\"WGS 84\",6378137,298.257223563,AUTHORITY[\"EPSG\",\"7030\"]],AUTHORITY[\"EPSG\",\"6326\"]],PRIMEM[\"Greenwich\",0,AUTHORITY[\"EPSG\",\"8901\"]],UNIT[\"degree\",0.0174532925199433,AUTHORITY[\"EPSG\",\"9122\"]],AXIS[\"Latitude\",NORTH],AXIS[\"Longitude\",EAST],AUTHORITY[\"EPSG\",\"4326\"]]'"
      ]
     },
     "execution_count": 5,
     "metadata": {},
     "output_type": "execute_result"
    }
   ],
   "source": [
    "dataset.GetProjectionRef()"
   ]
  },
  {
   "cell_type": "code",
   "execution_count": 9,
   "metadata": {},
   "outputs": [
    {
     "data": {
      "text/plain": [
       "0"
      ]
     },
     "execution_count": 9,
     "metadata": {},
     "output_type": "execute_result"
    }
   ],
   "source": [
    "# get_masks_to_cover(given_region, mask_size):\n",
    "''' for a given region, return a serious little masks to cover the region.\n",
    "Input: given_region (xx), mask_size (km)\n",
    "\n",
    "'''\n",
    "# determine the parameters for the masks\n",
    "# SetProjection\n",
    "\n",
    "\n",
    "\n",
    "import numpy\n",
    "\n",
    "gdal.AllRegister()\n",
    "driver = gdal.GetDriverByName('MEM')  # just a varible, if want to save the .tif, set as \"GTiff\"\n",
    "\n",
    "xsize = 200 # \n",
    "ysize = 200 # 输出影像的行数，根据尺寸和分辨率计算\n",
    "bands = 1 # 输出影像的波段数，这里只有一个mask\n",
    "datatype = gdal.GDT_Byte # 输出影像的数据类型，这里使用Byte\n",
    "output_ds = driver.Create('', xsize, ysize, bands, datatype)\n",
    "\n",
    "geotransform = [120, 0.0001, 0, 30, 0, -0.0001] # 地理变换参数，根据经纬度和分辨率计算\n",
    "output_ds.SetGeoTransform(geotransform)\n",
    "\n",
    "\n",
    "projection = 'GEOGCS[\"WGS 84\",DATUM[\"WGS_1984\",SPHEROID[\"WGS 84\",6378137,298.257223563,AUTHORITY[\"EPSG\",\"7030\"]],AUTHORITY[\"EPSG\",\"6326\"]],PRIMEM[\"Greenwich\",0,AUTHORITY[\"EPSG\",\"8901\"]],UNIT[\"degree\",0.0174532925199433,AUTHORITY[\"EPSG\",\"9122\"]],AUTHORITY[\"EPSG\",\"4326\"]]' # 投影信息，这里使用WKT格式\n",
    "output_ds.SetProjection(projection)\n",
    "\n",
    "mask = numpy.ones((ysize, xsize), dtype=numpy.uint8) # 创建一个全是1的数组，大小和数据类型与输出影像一致\n",
    "output_ds.GetRasterBand(1).WriteArray(mask) # 写入输出影像的第一个波段\n",
    "# output_ds.FlushCache() # 保存输出影像\n",
    "\n",
    "# \n"
   ]
  },
  {
   "cell_type": "code",
   "execution_count": null,
   "metadata": {},
   "outputs": [],
   "source": [
    "\n",
    "# define the masks\n",
    "\n",
    "driver = gdal.GetDriverByName('MEM')\n",
    "target_ds = driver.Create('', preim_ncols, preim_nrows, 1, gdal.GDT_Byte)\n",
    "# target_ds.SetGeoTransform((xmin, xres, 0, ymax, 0, yres))\n",
    "# band = target_ds.GetRasterBand(1)\n",
    "# target_ds.SetProjection(raster_srs.ExportToWkt())\n",
    "\n",
    "# # Rasterize flooded roads\n",
    "# gdal.RasterizeLayer(target_ds, [1], buffered_roads_layer, options=['ATTRIBUTE=mask_id'])\n",
    "# # get binary road array (0 no-road, 1 road)\n",
    "# road_flood_arr = target_ds.ReadAsArray()\n",
    "# road_binary_arr = np.zeros(road_flood_arr.shape)\n",
    "# road_binary_arr[road_flood_arr > 0.5] = 1\n",
    "# road_arr_sum = np.sum(road_binary_arr)"
   ]
  },
  {
   "cell_type": "code",
   "execution_count": 1,
   "metadata": {},
   "outputs": [],
   "source": [
    "import gdal\n",
    "import numpy as np\n",
    "mask_size = 2\n",
    "given_region = [6.691455797, 50.588763568, 7.084461410, 50.296027904]\n",
    "\n",
    "''' for a given region, return a serious smaller masks to cover the region.\n",
    "Input: given_region (xx), mask_size (km)\n",
    "Output: a serious of [left, top, right, bottom]\n",
    "'''\n",
    "# initialization\n",
    "masks_list = []\n",
    "reso = 0.0001  # the resolution, about 10 meters\n",
    "reso_meter = reso * 100000\n",
    "\n",
    "\n",
    "# parameters for masks\n",
    "xsize = mask_size * 1000 / reso_meter * reso\n",
    "ysize = mask_size * 1000 / reso_meter * reso\n",
    "\n",
    "\n",
    "longitudes = np.arange(given_region[0], given_region[2], xsize, dtype = float).tolist()\n",
    "latitudes = np.arange(given_region[1], given_region[3], -ysize, dtype = float).tolist()\n",
    "\n",
    "\n",
    "for lon in longitudes:\n",
    "    for lat in latitudes:\n",
    "        left = lon\n",
    "        top = lat\n",
    "        right = left + xsize\n",
    "        bottom = top - ysize\n",
    "        masks_list.append([left, top, right, bottom])"
   ]
  },
  {
   "cell_type": "markdown",
   "metadata": {},
   "source": [
    "# Combine the building and road masks\n",
    "\n",
    "With the help of QGIS"
   ]
  },
  {
   "cell_type": "markdown",
   "metadata": {},
   "source": [
    "# Cut satellite images and building, road, flooding masks"
   ]
  },
  {
   "cell_type": "code",
   "execution_count": 25,
   "metadata": {},
   "outputs": [
    {
     "data": {
      "text/html": [
       "\n",
       "            <style>\n",
       "                .geemap-dark {\n",
       "                    --jp-widgets-color: white;\n",
       "                    --jp-widgets-label-color: white;\n",
       "                    --jp-ui-font-color1: white;\n",
       "                    --jp-layout-color2: #454545;\n",
       "                    background-color: #383838;\n",
       "                }\n",
       "                    \n",
       "                .geemap-dark .jupyter-button {\n",
       "                    --jp-layout-color3: #383838;\n",
       "                }\n",
       "                \n",
       "                .geemap-colab {\n",
       "                    background-color: var(--colab-primary-surface-color, white);\n",
       "                }\n",
       "                    \n",
       "                .geemap-colab .jupyter-button {\n",
       "                    --jp-layout-color3: var(--colab-primary-surface-color, white);\n",
       "                }\n",
       "            </style>\n",
       "            "
      ],
      "text/plain": [
       "<IPython.core.display.HTML object>"
      ]
     },
     "metadata": {},
     "output_type": "display_data"
    },
    {
     "name": "stdout",
     "output_type": "stream",
     "text": [
      "[6.691455797, 50.568763567999994, 6.711455796999999, 50.54876356799999]\n"
     ]
    }
   ],
   "source": [
    "\n",
    "left, top, right, bottom = masks_list[1]\n",
    "\n",
    "# left = 6.970763\n",
    "# top = 50.510766\n",
    "# right = left+0.002\n",
    "# bottom = top-0.002\n",
    "print(masks_list[1])"
   ]
  },
  {
   "cell_type": "code",
   "execution_count": 28,
   "metadata": {},
   "outputs": [
    {
     "data": {
      "text/html": [
       "\n",
       "            <style>\n",
       "                .geemap-dark {\n",
       "                    --jp-widgets-color: white;\n",
       "                    --jp-widgets-label-color: white;\n",
       "                    --jp-ui-font-color1: white;\n",
       "                    --jp-layout-color2: #454545;\n",
       "                    background-color: #383838;\n",
       "                }\n",
       "                    \n",
       "                .geemap-dark .jupyter-button {\n",
       "                    --jp-layout-color3: #383838;\n",
       "                }\n",
       "                \n",
       "                .geemap-colab {\n",
       "                    background-color: var(--colab-primary-surface-color, white);\n",
       "                }\n",
       "                    \n",
       "                .geemap-colab .jupyter-button {\n",
       "                    --jp-layout-color3: var(--colab-primary-surface-color, white);\n",
       "                }\n",
       "            </style>\n",
       "            "
      ],
      "text/plain": [
       "<IPython.core.display.HTML object>"
      ]
     },
     "metadata": {},
     "output_type": "display_data"
    }
   ],
   "source": [
    "\n",
    "one_vhr_path = \"E:\\\\code\\\\Py_workplace\\\\satellite_flooding\\\\Data\\\\Germany\\\\Post\\\\20210718_10500500E6DD3C00.tif\"\n",
    "\n",
    "input_ds = gdal.Open(one_vhr_path, gdal.GA_ReadOnly)\n",
    "projection = input_ds.GetProjection() # 获取投影信息\n",
    "# projection = 'GEOGCS[\"WGS 84\",DATUM[\"WGS_1984\",SPHEROID[\"WGS 84\",6378137,298.257223563,AUTHORITY[\"EPSG\",\"7030\"]],AUTHORITY[\"EPSG\",\"6326\"]],PRIMEM[\"Greenwich\",0,AUTHORITY[\"EPSG\",\"8901\"]],UNIT[\"degree\",0.0174532925199433,AUTHORITY[\"EPSG\",\"9122\"]],AUTHORITY[\"EPSG\",\"4326\"]]' # 投影信息，这里使用WKT格式\n",
    "# print(masks_list[1])\n",
    "\n",
    "# ds = gdal.Open(one_vhr_path)\n",
    "# ds = gdal.Translate('new.tif', ds, projWin = [-75.3, 5.5, -73.5, 3.7])\n",
    "# ds = None\n",
    "\n",
    "\n",
    "clip_ds = gdal.Translate('clip_ds.tif', input_ds, \n",
    "                         projWin=[left, top, right, bottom], \n",
    "                         xRes=0.0001, yRes=0.0001,\n",
    "                         outputSRS=projection)\n"
   ]
  },
  {
   "cell_type": "code",
   "execution_count": 32,
   "metadata": {},
   "outputs": [
    {
     "data": {
      "text/html": [
       "\n",
       "            <style>\n",
       "                .geemap-dark {\n",
       "                    --jp-widgets-color: white;\n",
       "                    --jp-widgets-label-color: white;\n",
       "                    --jp-ui-font-color1: white;\n",
       "                    --jp-layout-color2: #454545;\n",
       "                    background-color: #383838;\n",
       "                }\n",
       "                    \n",
       "                .geemap-dark .jupyter-button {\n",
       "                    --jp-layout-color3: #383838;\n",
       "                }\n",
       "                \n",
       "                .geemap-colab {\n",
       "                    background-color: var(--colab-primary-surface-color, white);\n",
       "                }\n",
       "                    \n",
       "                .geemap-colab .jupyter-button {\n",
       "                    --jp-layout-color3: var(--colab-primary-surface-color, white);\n",
       "                }\n",
       "            </style>\n",
       "            "
      ],
      "text/plain": [
       "<IPython.core.display.HTML object>"
      ]
     },
     "metadata": {},
     "output_type": "display_data"
    },
    {
     "name": "stdout",
     "output_type": "stream",
     "text": [
      "200\n",
      "200\n"
     ]
    },
    {
     "data": {
      "text/plain": [
       "(6.691455796986715, 0.0001, 0.0, 50.56876415018625, 0.0, -0.0001)"
      ]
     },
     "execution_count": 32,
     "metadata": {},
     "output_type": "execute_result"
    }
   ],
   "source": [
    "print(clip_ds.RasterXSize)\n",
    "print(clip_ds.RasterYSize)\n",
    "clip_ds.GetGeoTransform()"
   ]
  },
  {
   "cell_type": "code",
   "execution_count": 33,
   "metadata": {},
   "outputs": [
    {
     "data": {
      "text/html": [
       "\n",
       "            <style>\n",
       "                .geemap-dark {\n",
       "                    --jp-widgets-color: white;\n",
       "                    --jp-widgets-label-color: white;\n",
       "                    --jp-ui-font-color1: white;\n",
       "                    --jp-layout-color2: #454545;\n",
       "                    background-color: #383838;\n",
       "                }\n",
       "                    \n",
       "                .geemap-dark .jupyter-button {\n",
       "                    --jp-layout-color3: #383838;\n",
       "                }\n",
       "                \n",
       "                .geemap-colab {\n",
       "                    background-color: var(--colab-primary-surface-color, white);\n",
       "                }\n",
       "                    \n",
       "                .geemap-colab .jupyter-button {\n",
       "                    --jp-layout-color3: var(--colab-primary-surface-color, white);\n",
       "                }\n",
       "            </style>\n",
       "            "
      ],
      "text/plain": [
       "<IPython.core.display.HTML object>"
      ]
     },
     "metadata": {},
     "output_type": "display_data"
    }
   ],
   "source": [
    "\n",
    "input_ds = None # 关闭input_ds\n",
    "clip_ds = None # 关闭clip_ds\n",
    "\n"
   ]
  },
  {
   "cell_type": "markdown",
   "metadata": {},
   "source": [
    "# download modis"
   ]
  },
  {
   "cell_type": "code",
   "execution_count": 2,
   "metadata": {},
   "outputs": [],
   "source": [
    "import ee\n",
    "# ee.Initialize()\n",
    "import geemap\n"
   ]
  },
  {
   "cell_type": "code",
   "execution_count": null,
   "metadata": {},
   "outputs": [],
   "source": [
    "\n",
    "import modis_toolbox as mod_tol\n"
   ]
  },
  {
   "cell_type": "code",
   "execution_count": 10,
   "metadata": {},
   "outputs": [
    {
     "data": {
      "text/html": [
       "\n",
       "            <style>\n",
       "                .geemap-dark {\n",
       "                    --jp-widgets-color: white;\n",
       "                    --jp-widgets-label-color: white;\n",
       "                    --jp-ui-font-color1: white;\n",
       "                    --jp-layout-color2: #454545;\n",
       "                    background-color: #383838;\n",
       "                }\n",
       "                    \n",
       "                .geemap-dark .jupyter-button {\n",
       "                    --jp-layout-color3: #383838;\n",
       "                }\n",
       "                \n",
       "                .geemap-colab {\n",
       "                    background-color: var(--colab-primary-surface-color, white);\n",
       "                }\n",
       "                    \n",
       "                .geemap-colab .jupyter-button {\n",
       "                    --jp-layout-color3: var(--colab-primary-surface-color, white);\n",
       "                }\n",
       "            </style>\n",
       "            "
      ],
      "text/plain": [
       "<IPython.core.display.HTML object>"
      ]
     },
     "metadata": {},
     "output_type": "display_data"
    }
   ],
   "source": [
    "\n",
    "mask_geo = masks_list[1]\n",
    "date_range = ['2021-07-02','2021-07-03']\n",
    "save_path = \"E:\\\\code\\\\Py_workplace\\\\satellite_flooding\\\\\"\n",
    "filename = 'modis.tif'\n"
   ]
  },
  {
   "cell_type": "code",
   "execution_count": 5,
   "metadata": {},
   "outputs": [
    {
     "data": {
      "text/html": [
       "\n",
       "            <style>\n",
       "                .geemap-dark {\n",
       "                    --jp-widgets-color: white;\n",
       "                    --jp-widgets-label-color: white;\n",
       "                    --jp-ui-font-color1: white;\n",
       "                    --jp-layout-color2: #454545;\n",
       "                    background-color: #383838;\n",
       "                }\n",
       "                    \n",
       "                .geemap-dark .jupyter-button {\n",
       "                    --jp-layout-color3: #383838;\n",
       "                }\n",
       "                \n",
       "                .geemap-colab {\n",
       "                    background-color: var(--colab-primary-surface-color, white);\n",
       "                }\n",
       "                    \n",
       "                .geemap-colab .jupyter-button {\n",
       "                    --jp-layout-color3: var(--colab-primary-surface-color, white);\n",
       "                }\n",
       "            </style>\n",
       "            "
      ],
      "text/plain": [
       "<IPython.core.display.HTML object>"
      ]
     },
     "metadata": {},
     "output_type": "display_data"
    }
   ],
   "source": [
    "\n",
    "left, top, right, bottom = mask_geo\n",
    "# geometry, date_range = get_vhr_reg_date(one_vhr_path)\n",
    "geometry = ee.Geometry.Polygon([[left, bottom],\n",
    "                        [left, top],\n",
    "                        [right, top],\n",
    "                        [right, bottom]],proj=\"EPSG:4326\") # the proj is determinted in QGIS\n"
   ]
  },
  {
   "cell_type": "code",
   "execution_count": 6,
   "metadata": {},
   "outputs": [
    {
     "data": {
      "text/html": [
       "\n",
       "            <style>\n",
       "                .geemap-dark {\n",
       "                    --jp-widgets-color: white;\n",
       "                    --jp-widgets-label-color: white;\n",
       "                    --jp-ui-font-color1: white;\n",
       "                    --jp-layout-color2: #454545;\n",
       "                    background-color: #383838;\n",
       "                }\n",
       "                    \n",
       "                .geemap-dark .jupyter-button {\n",
       "                    --jp-layout-color3: #383838;\n",
       "                }\n",
       "                \n",
       "                .geemap-colab {\n",
       "                    background-color: var(--colab-primary-surface-color, white);\n",
       "                }\n",
       "                    \n",
       "                .geemap-colab .jupyter-button {\n",
       "                    --jp-layout-color3: var(--colab-primary-surface-color, white);\n",
       "                }\n",
       "            </style>\n",
       "            "
      ],
      "text/plain": [
       "<IPython.core.display.HTML object>"
      ]
     },
     "metadata": {},
     "output_type": "display_data"
    }
   ],
   "source": [
    "\n",
    "_, one_modis_ima, _ = mod_tol.get_modis_terra_aqua(geometry, ee.DateRange(date_range[0], date_range[1]))      \n"
   ]
  },
  {
   "cell_type": "code",
   "execution_count": 7,
   "metadata": {},
   "outputs": [
    {
     "data": {
      "text/html": [
       "\n",
       "            <style>\n",
       "                .geemap-dark {\n",
       "                    --jp-widgets-color: white;\n",
       "                    --jp-widgets-label-color: white;\n",
       "                    --jp-ui-font-color1: white;\n",
       "                    --jp-layout-color2: #454545;\n",
       "                    background-color: #383838;\n",
       "                }\n",
       "                    \n",
       "                .geemap-dark .jupyter-button {\n",
       "                    --jp-layout-color3: #383838;\n",
       "                }\n",
       "                \n",
       "                .geemap-colab {\n",
       "                    background-color: var(--colab-primary-surface-color, white);\n",
       "                }\n",
       "                    \n",
       "                .geemap-colab .jupyter-button {\n",
       "                    --jp-layout-color3: var(--colab-primary-surface-color, white);\n",
       "                }\n",
       "            </style>\n",
       "            "
      ],
      "text/plain": [
       "<IPython.core.display.HTML object>"
      ]
     },
     "metadata": {},
     "output_type": "display_data"
    }
   ],
   "source": [
    "\n",
    "# for now, the band 7 and the ratio of b1 to b2 are selected\n",
    "def b1b2_swir_clip(img):\n",
    "        return img.select(\"swir\",\"b1b2_ratio\")\n",
    "\n",
    "modis_swir_b1b2 = one_modis_ima.map(b1b2_swir_clip)\n"
   ]
  },
  {
   "cell_type": "code",
   "execution_count": 34,
   "metadata": {},
   "outputs": [
    {
     "data": {
      "text/html": [
       "\n",
       "            <style>\n",
       "                .geemap-dark {\n",
       "                    --jp-widgets-color: white;\n",
       "                    --jp-widgets-label-color: white;\n",
       "                    --jp-ui-font-color1: white;\n",
       "                    --jp-layout-color2: #454545;\n",
       "                    background-color: #383838;\n",
       "                }\n",
       "                    \n",
       "                .geemap-dark .jupyter-button {\n",
       "                    --jp-layout-color3: #383838;\n",
       "                }\n",
       "                \n",
       "                .geemap-colab {\n",
       "                    background-color: var(--colab-primary-surface-color, white);\n",
       "                }\n",
       "                    \n",
       "                .geemap-colab .jupyter-button {\n",
       "                    --jp-layout-color3: var(--colab-primary-surface-color, white);\n",
       "                }\n",
       "            </style>\n",
       "            "
      ],
      "text/plain": [
       "<IPython.core.display.HTML object>"
      ]
     },
     "metadata": {},
     "output_type": "display_data"
    },
    {
     "name": "stdout",
     "output_type": "stream",
     "text": [
      "Total number of images: 1\n",
      "\n",
      "Downloading 1/1: modis.tif\n"
     ]
    },
    {
     "data": {
      "application/vnd.jupyter.widget-view+json": {
       "model_id": "2753b77947684a9aa19e240aff6db396",
       "version_major": 2,
       "version_minor": 0
      },
      "text/plain": [
       "modis.tif: |          | 0.00/400k (raw) [  0.0%] in 00:00 (eta:     ?)"
      ]
     },
     "metadata": {},
     "output_type": "display_data"
    }
   ],
   "source": [
    "\n",
    "geemap.download_ee_image_collection(modis_swir_b1b2, \n",
    "                                    out_dir=save_path, \n",
    "                                    filenames=[filename],\n",
    "                                    crs=\"EPSG:4326\")"
   ]
  },
  {
   "cell_type": "code",
   "execution_count": 37,
   "metadata": {},
   "outputs": [
    {
     "data": {
      "text/html": [
       "\n",
       "            <style>\n",
       "                .geemap-dark {\n",
       "                    --jp-widgets-color: white;\n",
       "                    --jp-widgets-label-color: white;\n",
       "                    --jp-ui-font-color1: white;\n",
       "                    --jp-layout-color2: #454545;\n",
       "                    background-color: #383838;\n",
       "                }\n",
       "                    \n",
       "                .geemap-dark .jupyter-button {\n",
       "                    --jp-layout-color3: #383838;\n",
       "                }\n",
       "                \n",
       "                .geemap-colab {\n",
       "                    background-color: var(--colab-primary-surface-color, white);\n",
       "                }\n",
       "                    \n",
       "                .geemap-colab .jupyter-button {\n",
       "                    --jp-layout-color3: var(--colab-primary-surface-color, white);\n",
       "                }\n",
       "            </style>\n",
       "            "
      ],
      "text/plain": [
       "<IPython.core.display.HTML object>"
      ]
     },
     "metadata": {},
     "output_type": "display_data"
    },
    {
     "name": "stdout",
     "output_type": "stream",
     "text": [
      "200\n",
      "200\n"
     ]
    }
   ],
   "source": [
    "one_modis_path = \"E:\\\\code\\\\Py_workplace\\\\satellite_flooding\\\\modis.tif\"\n",
    "\n",
    "modis_ds = gdal.Open(one_modis_path, gdal.GA_ReadOnly)\n",
    "projection = modis_ds.GetProjection() # 获取投影信息\n",
    "# projection = 'GEOGCS[\"WGS 84\",DATUM[\"WGS_1984\",SPHEROID[\"WGS 84\",6378137,298.257223563,AUTHORITY[\"EPSG\",\"7030\"]],AUTHORITY[\"EPSG\",\"6326\"]],PRIMEM[\"Greenwich\",0,AUTHORITY[\"EPSG\",\"8901\"]],UNIT[\"degree\",0.0174532925199433,AUTHORITY[\"EPSG\",\"9122\"]],AUTHORITY[\"EPSG\",\"4326\"]]' # 投影信息，这里使用WKT格式\n",
    "# print(masks_list[1])\n",
    "\n",
    "# ds = gdal.Open(one_vhr_path)\n",
    "# ds = gdal.Translate('new.tif', ds, projWin = [-75.3, 5.5, -73.5, 3.7])\n",
    "# ds = None\n",
    "\n",
    "\n",
    "modis_ds_up = gdal.Translate('modis_ds.tif', modis_ds, \n",
    "                         projWin=[left, top, right, bottom], \n",
    "                         xRes=0.0001, yRes=0.0001,\n",
    "                         outputSRS=projection)\n",
    "\n",
    "print(modis_ds_up.RasterXSize)\n",
    "print(modis_ds_up.RasterYSize)\n",
    "modis_ds_up.GetGeoTransform()\n",
    "\n",
    "modis_ds_up = None\n",
    "modis_ds = None\n"
   ]
  },
  {
   "cell_type": "markdown",
   "metadata": {},
   "source": [
    "# Identify the overlap region between the pre vhr and post vhr"
   ]
  },
  {
   "cell_type": "code",
   "execution_count": 41,
   "metadata": {},
   "outputs": [
    {
     "data": {
      "text/html": [
       "\n",
       "            <style>\n",
       "                .geemap-dark {\n",
       "                    --jp-widgets-color: white;\n",
       "                    --jp-widgets-label-color: white;\n",
       "                    --jp-ui-font-color1: white;\n",
       "                    --jp-layout-color2: #454545;\n",
       "                    background-color: #383838;\n",
       "                }\n",
       "                    \n",
       "                .geemap-dark .jupyter-button {\n",
       "                    --jp-layout-color3: #383838;\n",
       "                }\n",
       "                \n",
       "                .geemap-colab {\n",
       "                    background-color: var(--colab-primary-surface-color, white);\n",
       "                }\n",
       "                    \n",
       "                .geemap-colab .jupyter-button {\n",
       "                    --jp-layout-color3: var(--colab-primary-surface-color, white);\n",
       "                }\n",
       "            </style>\n",
       "            "
      ],
      "text/plain": [
       "<IPython.core.display.HTML object>"
      ]
     },
     "metadata": {},
     "output_type": "display_data"
    },
    {
     "name": "stdout",
     "output_type": "stream",
     "text": [
      "[6.687608736234032, 51.027255387440256, 6.9046901500298095, 49.9713756553876]\n",
      "[6.691455796986715, 50.58876356793541, 7.084461409524862, 50.29602790441625]\n",
      "[6.691455796986715, 50.58876356793541, 6.9046901500298095, 50.29602790441625]\n",
      "True\n"
     ]
    }
   ],
   "source": [
    "\n",
    "# def identify_overlap(tif_path_1, tif_path_2):\n",
    "#     '''identify the overlap region for two given .tif file\n",
    "#     output: [left top right bottom]\n",
    "#     '''\n",
    "\n",
    "tif_path_1 = \"E:\\\\code\\\\Py_workplace\\\\satellite_flooding\\\\Data\\\\Germany\\\\Pre\\\\20180701_104001003E791C00.tif\"\n",
    "tif_path_2 = \"E:\\\\code\\\\Py_workplace\\\\satellite_flooding\\\\Data\\\\Germany\\\\Post\\\\20210718_10500500E6DD3C00.tif\"\n",
    "\n",
    "# one_vhr_path = \"E:\\\\code\\\\Py_workplace\\\\satellite_flooding\\\\Data\\\\Germany\\\\Post\\\\20210718_10500500E6DD3C00.tif\"\n",
    "# Open .tif\n",
    "tif_1 = gdal.Open(tif_path_1)\n",
    "geotransform_1 = tif_1.GetGeoTransform()\n",
    "left_1 = geotransform_1[0]\n",
    "top_1 = geotransform_1[3]\n",
    "right_1 = left_1 + geotransform_1[1] * tif_1.RasterXSize\n",
    "bottom_1 = top_1 + geotransform_1[5] * tif_1.RasterYSize\n",
    "\n",
    "tif_2 = gdal.Open(tif_path_2)\n",
    "geotransform_2 = tif_2.GetGeoTransform()\n",
    "left_2 = geotransform_2[0]\n",
    "top_2 = geotransform_2[3]\n",
    "right_2 = left_2 + geotransform_2[1] * tif_2.RasterXSize\n",
    "bottom_2 = top_2 + geotransform_2[5] * tif_2.RasterYSize\n",
    "\n",
    "left = max(left_1,left_2)\n",
    "top = min(top_1,top_2)\n",
    "\n",
    "right = min(right_1,right_2)\n",
    "bottom = max(bottom_1,bottom_2)\n",
    "\n",
    "print([left_1, top_1, right_1, bottom_1])\n",
    "print([left_2, top_2, right_2, bottom_2])\n",
    "print([left, top, right, bottom])\n",
    "print((left<right) and (top>bottom))"
   ]
  }
 ],
 "metadata": {
  "kernelspec": {
   "display_name": "satellite_flooding",
   "language": "python",
   "name": "python3"
  },
  "language_info": {
   "codemirror_mode": {
    "name": "ipython",
    "version": 3
   },
   "file_extension": ".py",
   "mimetype": "text/x-python",
   "name": "python",
   "nbconvert_exporter": "python",
   "pygments_lexer": "ipython3",
   "version": "3.8.15"
  }
 },
 "nbformat": 4,
 "nbformat_minor": 2
}
