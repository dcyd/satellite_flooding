{
 "cells": [
  {
   "cell_type": "markdown",
   "metadata": {},
   "source": [
    "The image of inital VHR is too big.\n",
    "I need to cut that into smaller images.\n",
    "Maybe I choose the size of smaller images as 2km * 2km\n",
    "\n",
    "Input: a intial images; the size of each images.\n",
    "\n",
    "Steps:\n",
    "    1. a list of lons and lats with a internal of 2km (based on MODIS, 4 or 8 pixes)\n",
    "    2. for the area within each lon and each lat, detect whether their are vhr images, and cut it if yes.\n"
   ]
  },
  {
   "cell_type": "markdown",
   "metadata": {},
   "source": [
    "## Read raster with gdal"
   ]
  },
  {
   "cell_type": "code",
   "execution_count": 1,
   "metadata": {},
   "outputs": [
    {
     "name": "stdout",
     "output_type": "stream",
     "text": [
      "(6.691455796986715, 6.201369844702031e-06, 0.0, 50.58876356793541, 0.0, -6.201369844702031e-06)\n",
      "3\n",
      "3\n",
      "GEOGCS[\"WGS 84\",DATUM[\"WGS_1984\",SPHEROID[\"WGS 84\",6378137,298.257223563,AUTHORITY[\"EPSG\",\"7030\"]],AUTHORITY[\"EPSG\",\"6326\"]],PRIMEM[\"Greenwich\",0,AUTHORITY[\"EPSG\",\"8901\"]],UNIT[\"degree\",0.0174532925199433,AUTHORITY[\"EPSG\",\"9122\"]],AXIS[\"Latitude\",NORTH],AXIS[\"Longitude\",EAST],AUTHORITY[\"EPSG\",\"4326\"]]\n"
     ]
    }
   ],
   "source": [
    "import gdal\n",
    "one_vhr = \"E:\\\\code\\\\Py_workplace\\\\satellite_flooding\\\\Data\\\\Germany\\\\Post\\\\20210718_10500500E6DD3C00.tif\"\n",
    "\n",
    "# Open .tif\n",
    "# https://blog.csdn.net/xiaotiig/article/details/128297792\n",
    "tif_data = gdal.Open(one_vhr)\n",
    "# Size:\n",
    "print(tif_data.RasterXSize)\n",
    "print(tif_data.RasterYSize)\n",
    "# geotransform: .GetGeoTransform(): \n",
    "# 0: The x-coordinate of the upper-left corner of the upper-left pixel (origin)\n",
    "# 1: The pixel width in the x-direction (resolution)\n",
    "# 2: The rotation angle in the x-direction (skew)\n",
    "# 3: The y-coordinate of the upper-left corner of the upper-left pixel (origin)\n",
    "# 4: The rotation angle in the y-direction (skew)\n",
    "# 5: The pixel height in the y-direction (resolution, negative for north-up images)\n",
    "geotransform = tif_data.GetGeoTransform()\n",
    "print(geotransform)\n",
    "\n",
    "# band\n",
    "bandCount = tif_data.RasterCount\n",
    "print(bandCount)\n",
    "\n",
    "# projection\n",
    "proj = tif_data.GetProjection()\n",
    "print(proj)\n",
    "\n",
    "\n"
   ]
  },
  {
   "cell_type": "code",
   "execution_count": 3,
   "metadata": {},
   "outputs": [],
   "source": [
    "import gdal\n",
    "import numpy as np\n",
    "mask_size = 2\n",
    "given_region = [6.691455797, 50.588763568, 7.084461410, 50.296027904]\n",
    "\n",
    "''' for a given region, return a serious smaller masks to cover the region.\n",
    "Input: given_region (xx), mask_size (km)\n",
    "Output: a serious of [left, top, right, bottom]\n",
    "'''\n",
    "# initialization\n",
    "masks_list = []\n",
    "reso = 0.0001  # the resolution, about 10 meters\n",
    "reso_meter = reso * 100000\n",
    "\n",
    "\n",
    "# parameters for masks\n",
    "xsize = mask_size * 1000 / reso_meter * reso\n",
    "ysize = mask_size * 1000 / reso_meter * reso\n",
    "\n",
    "\n",
    "longitudes = np.arange(given_region[0], given_region[2], xsize, dtype = float).tolist()\n",
    "latitudes = np.arange(given_region[1], given_region[3], -ysize, dtype = float).tolist()\n",
    "\n",
    "\n",
    "\n",
    "for lon in longitudes:\n",
    "    for lat in latitudes:\n",
    "        left = lon\n",
    "        top = lat\n",
    "        right = left + reso+xsize\n",
    "        bottom = top - reso+xsize\n",
    "        masks_list.append([left, top, right, bottom])"
   ]
  }
 ],
 "metadata": {
  "kernelspec": {
   "display_name": "satellite_flooding",
   "language": "python",
   "name": "python3"
  },
  "language_info": {
   "codemirror_mode": {
    "name": "ipython",
    "version": 3
   },
   "file_extension": ".py",
   "mimetype": "text/x-python",
   "name": "python",
   "nbconvert_exporter": "python",
   "pygments_lexer": "ipython3",
   "version": "3.8.15"
  }
 },
 "nbformat": 4,
 "nbformat_minor": 2
}
