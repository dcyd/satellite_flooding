{
 "cells": [
  {
   "cell_type": "code",
   "execution_count": 1,
   "metadata": {},
   "outputs": [
    {
     "name": "stdout",
     "output_type": "stream",
     "text": [
      "1\n"
     ]
    }
   ],
   "source": [
    "from osgeo import gdal\n",
    "\n",
    "img_size = [1000,1000]\n",
    "\n",
    "modis_tif_path = \"E:\\\\code\\\\Py_workplace\\\\spacenet8\\\\Data\\\\Germany_Training_Public\\\\post_modis\\\\postmodis_10300100AF395C00_2_13_45.tif\"\n",
    "vhr_tif_path = \"E:\\\\code\\\\Py_workplace\\\\spacenet8\\\\Data\\\\Germany_Training_Public\\\\POST-event\\\\10500500E6DD3C00_0_15_63.tif\"\n",
    "mask_tif_path = \"E:\\\\code\\\\Py_workplace\\\\spacenet8\\\\Data\\\\Germany_Training_Public\\\\annotations\\\\masks\\\\building_10500500C4DD7000_0_15_63.tif\"\n",
    "tif_path = mask_tif_path\n",
    "\n",
    "\n",
    "dataset = gdal.Open(tif_path)\n",
    "data_type = dataset.GetRasterBand(1).DataType\n",
    "dataset = None\n",
    "\n",
    "# ds = gdal.Warp(\"\", tif_path,\n",
    "#                 format='MEM', width=img_size[1], height=img_size[0],\n",
    "#                 resampleAlg=gdal.GRIORA_Bilinear,\n",
    "#                 outputType=data_type)\n",
    "\n",
    "print(data_type)\n"
   ]
  },
  {
   "cell_type": "code",
   "execution_count": 3,
   "metadata": {},
   "outputs": [],
   "source": [
    "\n",
    "import numpy as np\n",
    "from osgeo import gdal\n",
    "import torch\n",
    "\n",
    "# from PIL import Image\n",
    "\n",
    "post_modis_path = \"E:\\\\code\\\\Py_workplace\\\\spacenet8\\\\Data\\\\Germany_Training_Public\\\\post_modis\\\\postmodis_10300100AF395C00_2_13_45.tif\"\n",
    "pre_modis_path = \"E:\\\\code\\\\Py_workplace\\\\spacenet8\\\\Data\\\\Germany_Training_Public\\\\pre_modis\\\\premodis_10300100AF395C00_2_13_45.tif\"\n",
    "\n",
    "ds1 = gdal.Open(post_modis_path)\n",
    "image1 = ds1.ReadAsArray()\n",
    "image1 = torch.from_numpy(image1)\n",
    "\n",
    "ds2 = gdal.Open(pre_modis_path)\n",
    "image2 = ds2.ReadAsArray()\n",
    "image2 = torch.from_numpy(image2)\n",
    "\n",
    "# img = Image.open('test.jpg') # 打开图片\n",
    "# im = np.array(img) # 转化为ndarray对象\n",
    "# imfinal = np.concatenate((image1, image1), axis=0)\n",
    "\n",
    "img3 = torch.cat((image1, image2), dim=0) # 得到一个100*100*5的图像张量\n"
   ]
  },
  {
   "cell_type": "code",
   "execution_count": 3,
   "metadata": {},
   "outputs": [
    {
     "name": "stdout",
     "output_type": "stream",
     "text": [
      "loaded 679 image filepaths\n"
     ]
    }
   ],
   "source": [
    "from sn8dataset import SN8Dataset\n",
    "import torch\n",
    "\n",
    "train_csv = \"E:\\\\code\\\\Py_workplace\\\\spacenet8\\\\Data\\\\train_val_csv\\\\modis_train.csv\"\n",
    "\n",
    "\n",
    "train_dataset = SN8Dataset(train_csv,\n",
    "                        data_to_load=[\"preimg\",\"pre_modis\",\"post_modis\",\"flood_road\"],\n",
    "                        img_size=1300)\n",
    "train_dataloader = torch.utils.data.DataLoader(train_dataset, shuffle=True, num_workers=2, batch_size=2)\n",
    "\n",
    "\n",
    "for i, data in enumerate(train_dataloader):\n",
    "    data = train_dataloader[0]\n",
    "    preimg, _, _, _, _, _, flood_road, _, pre_modis, post_modis = data\n",
    "    # \"preimg\",\"postimg\",\"building\",\"road\",\"roadspeed\",\"flood\",\"flood_road\",\"flood_building\",\"pre_modis\",\"post_modis\"\n",
    "    flood = flood_road\n"
   ]
  }
 ],
 "metadata": {
  "kernelspec": {
   "display_name": "forbaby",
   "language": "python",
   "name": "python3"
  },
  "language_info": {
   "codemirror_mode": {
    "name": "ipython",
    "version": 3
   },
   "file_extension": ".py",
   "mimetype": "text/x-python",
   "name": "python",
   "nbconvert_exporter": "python",
   "pygments_lexer": "ipython3",
   "version": "3.7.11"
  }
 },
 "nbformat": 4,
 "nbformat_minor": 2
}
